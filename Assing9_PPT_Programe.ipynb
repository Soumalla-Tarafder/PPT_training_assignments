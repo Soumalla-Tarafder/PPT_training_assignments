{
  "nbformat": 4,
  "nbformat_minor": 0,
  "metadata": {
    "colab": {
      "provenance": []
    },
    "kernelspec": {
      "name": "python3",
      "display_name": "Python 3"
    },
    "language_info": {
      "name": "python"
    }
  },
  "cells": [
    {
      "cell_type": "markdown",
      "source": [
        "<aside>\n",
        "💡 **Question 1**\n",
        "\n",
        "Given an integer `n`, return *`true` if it is a power of two. Otherwise, return `false`*.\n",
        "\n",
        "An integer `n` is a power of two, if there exists an integer `x` such that `n == 2x`.\n",
        "\n",
        "**Example 1:**\n",
        "Input: n = 1 \n",
        "\n",
        "Output: true\n",
        "\n",
        "**Example 2:**\n",
        "Input: n = 16 \n",
        "\n",
        "Output: true\n",
        "\n",
        "**Example 3:**\n",
        "Input: n = 3 \n",
        "\n",
        "Output: false\n",
        "\n",
        "</aside>"
      ],
      "metadata": {
        "id": "hZh9YhXThygZ"
      }
    },
    {
      "cell_type": "code",
      "source": [
        "from pickle import TRUE\n",
        "def findPowerOfTwo(n,powerSum):\n",
        "  if(n==1 or n==powerSum):\n",
        "    print(\"True\")\n",
        "    return \n",
        "  if(n==0):\n",
        "    print(\"False\")\n",
        "    return  \n",
        "  if(powerSum > n):\n",
        "    print(\"False\")\n",
        "    return \n",
        "\n",
        "  powerSum=powerSum+2\n",
        "  findPowerOfTwo(n,powerSum)\n",
        "\n",
        "findPowerOfTwo(16,0)     "
      ],
      "metadata": {
        "id": "_lXQ7LLEClDO",
        "colab": {
          "base_uri": "https://localhost:8080/"
        },
        "outputId": "ae9c5a09-5ef1-428d-c38a-fca4563be21d"
      },
      "execution_count": 40,
      "outputs": [
        {
          "output_type": "stream",
          "name": "stdout",
          "text": [
            "True\n"
          ]
        }
      ]
    },
    {
      "cell_type": "markdown",
      "source": [
        "<aside>\n",
        "💡 **Question 2**\n",
        "\n",
        "Given a number n, find the sum of the first natural numbers.\n",
        "\n",
        "**Example 1:**\n",
        "\n",
        "Input: n = 3 \n",
        "\n",
        "Output: 6\n",
        "\n",
        "**Example 2:**\n",
        "\n",
        "Input  : 5 \n",
        "\n",
        "Output : 15\n",
        "\n",
        "</aside>"
      ],
      "metadata": {
        "id": "ZaazTqh0Pjwo"
      }
    },
    {
      "cell_type": "code",
      "source": [
        "def naturalNumSum(n,sum):\n",
        "  if n==0:\n",
        "    print(sum)\n",
        "    return \n",
        "  else:\n",
        "    sum=sum + n\n",
        "    naturalNumSum(n-1,sum)\n",
        "\n",
        "N=2\n",
        "P=5\n",
        "naturalNumSum(5,0)"
      ],
      "metadata": {
        "colab": {
          "base_uri": "https://localhost:8080/"
        },
        "id": "Y-AmWP0_Pk46",
        "outputId": "9ea78977-ce92-4480-8ffa-e11329669cc0"
      },
      "execution_count": 34,
      "outputs": [
        {
          "output_type": "stream",
          "name": "stdout",
          "text": [
            "15\n"
          ]
        }
      ]
    },
    {
      "cell_type": "markdown",
      "source": [
        "<aside>\n",
        "💡 **Question 3**\n",
        "\n",
        "****Given a positive integer, N. Find the factorial of N. \n",
        "\n",
        "**Example 1:**\n",
        "\n",
        "Input: N = 5 \n",
        "\n",
        "Output: 120\n",
        "\n",
        "**Example 2:**\n",
        "\n",
        "Input: N = 4\n",
        "\n",
        "Output: 24\n",
        "\n",
        "</aside>"
      ],
      "metadata": {
        "id": "tdRqaCp1PlLB"
      }
    },
    {
      "cell_type": "code",
      "source": [
        "def factorial(n,fact):\n",
        "  if n==1:\n",
        "    print(fact)\n",
        "    return \n",
        "  else:\n",
        "    fact=fact*n\n",
        "    factorial(n-1,fact)\n",
        "\n",
        "N=2\n",
        "P=5\n",
        "factorial(5,1)  "
      ],
      "metadata": {
        "colab": {
          "base_uri": "https://localhost:8080/"
        },
        "id": "n8-rVMHOPmQA",
        "outputId": "436708bc-d036-4016-e2a3-b113b3c714b0"
      },
      "execution_count": 31,
      "outputs": [
        {
          "output_type": "stream",
          "name": "stdout",
          "text": [
            "120\n"
          ]
        }
      ]
    },
    {
      "cell_type": "markdown",
      "source": [
        "<aside>\n",
        "💡 **Question 4**\n",
        "\n",
        "Given a number N and a power P, the task is to find the exponent of this number raised to the given power, i.e. N^P.\n",
        "\n",
        "**Example 1 :** \n",
        "\n",
        "Input: N = 5, P = 2\n",
        "\n",
        "Output: 25\n",
        "\n",
        "**Example 2 :**\n",
        "Input: N = 2, P = 5\n",
        "\n",
        "Output: 32\n",
        "\n",
        "</aside>"
      ],
      "metadata": {
        "id": "I06ZFityPmhw"
      }
    },
    {
      "cell_type": "code",
      "source": [
        "def powerNum(n,p,power):\n",
        "  if p==0:\n",
        "    print(power)\n",
        "    return \n",
        "  else:\n",
        "    power=power*n\n",
        "    powerNum(n,p-1,power)\n",
        "\n",
        "N=2\n",
        "P=5\n",
        "powerNum(2,5,1)      "
      ],
      "metadata": {
        "colab": {
          "base_uri": "https://localhost:8080/"
        },
        "id": "ni-p12zZPnoX",
        "outputId": "fd9f533e-6ad8-40db-ebc5-cd9b8d107cf7"
      },
      "execution_count": 28,
      "outputs": [
        {
          "output_type": "stream",
          "name": "stdout",
          "text": [
            "32\n"
          ]
        }
      ]
    },
    {
      "cell_type": "markdown",
      "source": [
        "<aside>\n",
        "💡 **Question 5**\n",
        "\n",
        "Given an array of integers **arr**, the task is to find maximum element of that array using recursion.\n",
        "\n",
        "**Example 1:**\n",
        "\n",
        "Input: arr = {1, 4, 3, -5, -4, 8, 6};\n",
        "Output: 8\n",
        "\n",
        "**Example 2:**\n",
        "\n",
        "Input: arr = {1, 4, 45, 6, 10, -8};\n",
        "Output: 45\n",
        "\n",
        "</aside>"
      ],
      "metadata": {
        "id": "vsRG4yAKPn5w"
      }
    },
    {
      "cell_type": "code",
      "source": [
        "def findMax(arr,max,n):\n",
        "  if(n==len(arr)-1):\n",
        "    if max<arr[n]:\n",
        "      max = arr[n]\n",
        "    print(max)\n",
        "    return\n",
        "\n",
        "  else:\n",
        "    if max<arr[n]:\n",
        "      max = arr[n]\n",
        "    findMax(arr,max,n+1)  \n",
        "\n",
        "arr=[1, 4, 45, 6, 10, -8]\n",
        "findMax(arr,arr[0],1)"
      ],
      "metadata": {
        "colab": {
          "base_uri": "https://localhost:8080/"
        },
        "id": "QjSchUttPowo",
        "outputId": "3b4a9298-760d-4b34-ff54-5abd2e1e1482"
      },
      "execution_count": 25,
      "outputs": [
        {
          "output_type": "stream",
          "name": "stdout",
          "text": [
            "45\n"
          ]
        }
      ]
    },
    {
      "cell_type": "markdown",
      "source": [
        "<aside>\n",
        "💡 **Question 6**\n",
        "\n",
        "Given first term (a), common difference (d) and a integer N of the Arithmetic Progression series, the task is to find Nth term of the series.\n",
        "\n",
        "**Example 1:**\n",
        "\n",
        "Input : a = 2 d = 1 N = 5\n",
        "Output : 6\n",
        "The 5th term of the series is : 6\n",
        "\n",
        "**Example 2:**\n",
        "\n",
        "Input : a = 5 d = 2 N = 10\n",
        "Output : 23\n",
        "The 10th term of the series is : 23\n",
        "\n",
        "</aside>"
      ],
      "metadata": {
        "id": "O7u-AvGyPo_K"
      }
    },
    {
      "cell_type": "code",
      "source": [
        "def progressionSeries(starting,comdif,seriesNum,sum):\n",
        "  \n",
        "  if(seriesNum==1):\n",
        "    print(sum)\n",
        "    return\n",
        "  else:\n",
        "    sum=sum+comdif\n",
        "    progressionSeries(starting,comdif,seriesNum-1,sum)\n",
        "\n",
        "a=5\n",
        "d=2\n",
        "n=10\n",
        "progressionSeries(a,d,n,a)      "
      ],
      "metadata": {
        "colab": {
          "base_uri": "https://localhost:8080/"
        },
        "id": "6U6dIK_kPpyJ",
        "outputId": "4988093e-ae66-436d-aaf6-b61ecea06a8c"
      },
      "execution_count": 22,
      "outputs": [
        {
          "output_type": "stream",
          "name": "stdout",
          "text": [
            "23\n"
          ]
        }
      ]
    },
    {
      "cell_type": "markdown",
      "source": [
        "<aside>\n",
        "💡 **Question 7**\n",
        "\n",
        "Given a string S, the task is to write a program to print all permutations of a given string.\n",
        "\n",
        "**Example 1:**\n",
        "\n",
        "***Input:***\n",
        "\n",
        "*S = “ABC”*\n",
        "\n",
        "***Output:***\n",
        "\n",
        "*“ABC”, “ACB”, “BAC”, “BCA”, “CBA”, “CAB”*\n",
        "\n",
        "**Example 2:**\n",
        "\n",
        "***Input:***\n",
        "\n",
        "*S = “XY”*\n",
        "\n",
        "***Output:***\n",
        "\n",
        "*“XY”, “YX”*\n",
        "\n",
        "</aside>"
      ],
      "metadata": {
        "id": "VqaRhGEBPqIR"
      }
    },
    {
      "cell_type": "code",
      "source": [
        "def word(a):\n",
        "  return \"\".join(a)\n",
        "  \n",
        "\n",
        "def permutation(a,l,r):\n",
        "  if(l==r):\n",
        "    print(word(a))\n",
        "  else:\n",
        "    for i in range(l,r+1):\n",
        "      a[l],a[i]=a[i],a[l] \n",
        "      permutation(a,l+1,r)\n",
        "      a[l],a[i]=a[i],a[l] \n",
        "\n",
        "S = list(\"ABC\")\n",
        "r=len(\"ABC\")\n",
        "l=0\n",
        "permutation(S,l,r-1)\n",
        "\n"
      ],
      "metadata": {
        "colab": {
          "base_uri": "https://localhost:8080/"
        },
        "id": "FwlJKry-PrLo",
        "outputId": "6e30d31c-0821-4a28-99c5-c92c5e7aeb57"
      },
      "execution_count": 19,
      "outputs": [
        {
          "output_type": "stream",
          "name": "stdout",
          "text": [
            "ABC\n",
            "ACB\n",
            "BAC\n",
            "BCA\n",
            "CBA\n",
            "CAB\n"
          ]
        }
      ]
    },
    {
      "cell_type": "markdown",
      "source": [
        "<aside>\n",
        "💡 **Question 8**\n",
        "\n",
        "Given an array, find a product of all array elements.\n",
        "\n",
        "**Example 1:**\n",
        "\n",
        "Input  : arr[] = {1, 2, 3, 4, 5}\n",
        "Output : 120\n",
        "**Example 2:**\n",
        "\n",
        "Input  : arr[] = {1, 6, 3}\n",
        "Output : 18\n",
        "\n",
        "</aside>"
      ],
      "metadata": {
        "id": "ZCtchrjwPrjA"
      }
    },
    {
      "cell_type": "code",
      "source": [
        "def productArray(nums,n,sum):\n",
        "  \n",
        "  if n==0:\n",
        "    print(sum)\n",
        "    return \n",
        "  else:\n",
        "    sum=sum\n",
        "    sum = sum*nums[n-1]  \n",
        "    productArray(nums,n-1,sum)  \n",
        "arr = [1, 6, 3]\n",
        "n=3\n",
        "productArray(arr,n,1)"
      ],
      "metadata": {
        "colab": {
          "base_uri": "https://localhost:8080/"
        },
        "id": "3n_V1GMPPsWL",
        "outputId": "217d28ad-6f9e-4ef5-a9ba-4f605dac493b"
      },
      "execution_count": 8,
      "outputs": [
        {
          "output_type": "stream",
          "name": "stdout",
          "text": [
            "18\n"
          ]
        }
      ]
    },
    {
      "cell_type": "code",
      "source": [],
      "metadata": {
        "id": "t5KOM15VMdDl"
      },
      "execution_count": null,
      "outputs": []
    }
  ]
}