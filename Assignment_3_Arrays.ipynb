{
  "nbformat": 4,
  "nbformat_minor": 0,
  "metadata": {
    "colab": {
      "provenance": [],
      "gpuType": "T4",
      "authorship_tag": "ABX9TyNKZsmYGnpnEDl/lbV5C1ay",
      "include_colab_link": true
    },
    "kernelspec": {
      "name": "python3",
      "display_name": "Python 3"
    },
    "language_info": {
      "name": "python"
    },
    "gpuClass": "standard"
  },
  "cells": [
    {
      "cell_type": "markdown",
      "metadata": {
        "id": "view-in-github",
        "colab_type": "text"
      },
      "source": [
        "<a href=\"https://colab.research.google.com/github/Soumalla-Tarafder/PPT_training_assignments/blob/main/Assignment_3_Arrays.ipynb\" target=\"_parent\"><img src=\"https://colab.research.google.com/assets/colab-badge.svg\" alt=\"Open In Colab\"/></a>"
      ]
    },
    {
      "cell_type": "markdown",
      "source": [
        "Question 1\n",
        "Given an integer array nums of length n and an integer target, find three integers\n",
        "in nums such that the sum is closest to the target.\n",
        "Return the sum of the three integers.\n",
        "You may assume that each input would have exactly one solution.\n",
        "Example 1:\n",
        "Input: nums = [-1,2,1,-4], target = 1\n",
        "Output: 2\n",
        "Explanation: The sum that is closest to the target is 2. (-1 + 2 + 1 = 2)."
      ],
      "metadata": {
        "id": "_dcMSMo_P6WE"
      }
    },
    {
      "cell_type": "code",
      "source": [
        "def findClosestSum(arr,target):\n",
        "  cloestSum=1000000000000000\n",
        "  for i in range(len(arr)-2):\n",
        "    j=i+1\n",
        "    for k in range(i+2,len(arr),1):\n",
        "      if(target - (arr[i]+arr[j]+arr[k]) < target):\n",
        "        target=(arr[i]+arr[j]+arr[k])\n",
        "  return target     \n",
        "nums = [-1,2,1,-4]\n",
        "target=1\n",
        "findClosestSum(nums,target)"
      ],
      "metadata": {
        "id": "VsEyuMvonxbF",
        "colab": {
          "base_uri": "https://localhost:8080/"
        },
        "outputId": "42d3cc26-9d7c-49c2-9419-b2b9d6d535e5"
      },
      "execution_count": 1,
      "outputs": [
        {
          "output_type": "execute_result",
          "data": {
            "text/plain": [
              "2"
            ]
          },
          "metadata": {},
          "execution_count": 1
        }
      ]
    },
    {
      "cell_type": "markdown",
      "source": [
        "Question 2\n",
        "Given an array nums of n integers, return an array of all the unique quadruplets\n",
        "[nums[a], nums[b], nums[c], nums[d]] such that:\n",
        "● 0 <= a, b, c, d < n\n",
        "● a, b, c, and d are distinct.\n",
        "● nums[a] + nums[b] + nums[c] + nums[d] == target\n",
        "You may return the answer in any order.\n",
        "Example 1:\n",
        "Input: nums = [1,0,-1,0,-2,2], target = 0\n",
        "Output: [[-2,-1,1,2],[-2,0,0,2],[-1,0,0,1]]"
      ],
      "metadata": {
        "id": "3iskSqUnn3pL"
      }
    },
    {
      "cell_type": "code",
      "source": [
        "def findquadruplets(arr,target):\n",
        "  arr.sort()\n",
        "  #print(arr)\n",
        "  result=[]\n",
        "  for i in range(len(arr)-3):\n",
        "   \n",
        "    j=i+1\n",
        "    low=j+1\n",
        "    high=len(arr)-1\n",
        "    reminder=target-(arr[i]+arr[j])\n",
        "    while(low<high):\n",
        "      if(arr[low] + arr[high] == reminder):\n",
        "        result.append([arr[i],arr[j],arr[low],arr[high]])\n",
        "        low+=1\n",
        "        high-=1\n",
        "      elif(arr[low] + arr[high] > reminder):\n",
        "        high-=1\n",
        "      else:\n",
        "        low+=1\n",
        "            \n",
        " \n",
        "  return result\n",
        "nums = [1,0,-1,0,-2,2]\n",
        "target = 0\n",
        "findquadruplets(nums,target) \n"
      ],
      "metadata": {
        "id": "AjCO7HjZn4Ib",
        "colab": {
          "base_uri": "https://localhost:8080/"
        },
        "outputId": "901b913f-b8fa-4e0a-8ee7-7b7e5087ba15"
      },
      "execution_count": 15,
      "outputs": [
        {
          "output_type": "execute_result",
          "data": {
            "text/plain": [
              "[[-2, -1, 1, 2], [-1, 0, 0, 1]]"
            ]
          },
          "metadata": {},
          "execution_count": 15
        }
      ]
    },
    {
      "cell_type": "markdown",
      "source": [
        "A permutation of an array of integers is an arrangement of its members into a\n",
        "sequence or linear order.\n",
        "● For example, for arr = [1,2,3], the following are all the permutations of arr:\n",
        "[1,2,3], [1,3,2], [2, 1, 3], [2, 3, 1], [3,1,2], [3,2,1].\n",
        "The next permutation of an array of integers is the next lexicographically greater\n",
        "permutation of its integer. More formally, if all the permutations of the array are\n",
        "sorted in one container according to their lexicographical order, then the next\n",
        "permutation of that array is the permutation that follows it in the sorted container.\n",
        "\n",
        "If such an arrangement is not possible, the array must be rearranged as the\n",
        "lowest possible order (i.e., sorted in ascending order).\n",
        "● For example, the next permutation of arr = [1,2,3] is [1,3,2].\n",
        "● Similarly, the next permutation of arr = [2,3,1] is [3,1,2].\n",
        "● While the next permutation of arr = [3,2,1] is [1,2,3] because [3,2,1] does not\n",
        "have a lexicographical larger rearrangement.\n",
        "Given an array of integers nums, find the next permutation of nums.\n",
        "The replacement must be in place and use only constant extra memory.\n",
        "Example 1:\n",
        "Input: nums = [1,2,3]\n",
        "Output: [1,3,2]"
      ],
      "metadata": {
        "id": "vRJrJ5u9n_Wa"
      }
    },
    {
      "cell_type": "code",
      "source": [],
      "metadata": {
        "id": "cb8N_TBwoAMz"
      },
      "execution_count": null,
      "outputs": []
    },
    {
      "cell_type": "markdown",
      "source": [
        "Question 4\n",
        "Given a sorted array of distinct integers and a target value, return the index if the\n",
        "target is found. If not, return the index where it would be if it were inserted in\n",
        "order.\n",
        "You must write an algorithm with O(log n) runtime complexity.\n",
        "Example 1:\n",
        "Input: nums = [1,3,5,6], target = 5\n",
        "Output: 2"
      ],
      "metadata": {
        "id": "JzRQX7r1oFkC"
      }
    },
    {
      "cell_type": "code",
      "source": [
        "def founfElement(arrayInWhichToSearch,target):\n",
        "  i= 0\n",
        "  j=len(arrayInWhichToSearch)\n",
        "  while(i<=j):\n",
        "    mid=(i+j)//2\n",
        "    if(arrayInWhichToSearch[mid] == target):\n",
        "      print(f\"Target Found At position {mid}\")\n",
        "      return\n",
        "    elif(arrayInWhichToSearch[mid] > target):\n",
        "      j=mid-1\n",
        "    else:\n",
        "      i=mid+1\n",
        "  if(len(arrayInWhichToSearch) % 2 == 0):\n",
        "\n",
        "    print(f\"Target Should be At position {i}\")\n",
        "  else:\n",
        "    print(f\"Target Should be At position {i-1}\")   \n",
        "target = 5\n",
        "nums = [1,3,5,6]\n",
        "founfElement(nums,target)   \n",
        "\n",
        "#2nd test\n",
        "\n",
        "target = 5\n",
        "nums = [1,3,6,60]\n",
        "founfElement(nums,target)"
      ],
      "metadata": {
        "colab": {
          "base_uri": "https://localhost:8080/"
        },
        "id": "9jaf2uf_oITL",
        "outputId": "7a0a6b63-cb53-4eea-a5c7-2797c3730a73"
      },
      "execution_count": null,
      "outputs": [
        {
          "output_type": "stream",
          "name": "stdout",
          "text": [
            "Target Found At position 2\n",
            "Target Should be At position 2\n"
          ]
        }
      ]
    },
    {
      "cell_type": "markdown",
      "source": [
        "You are given a large integer represented as an integer array digits, where each\n",
        "digits[i] is the ith digit of the integer. The digits are ordered from most significant\n",
        "to least significant in left-to-right order. The large integer does not contain any\n",
        "leading 0's.\n",
        "Increment the large integer by one and return the resulting array of digits.\n",
        "Example 1:\n",
        "Input: digits = [1,2,3]\n",
        "Output: [1,2,4]\n",
        "Explanation: The array represents the integer 123.\n",
        "Incrementing by one gives 123 + 1 = 124.\n",
        "Thus, the result should be [1,2,4]."
      ],
      "metadata": {
        "id": "MRRqKCNAoI4j"
      }
    },
    {
      "cell_type": "code",
      "source": [
        "def incrementByOne(arrayToIncrement):\n",
        "  if(arrayToIncrement[-1]!=9):\n",
        "    arrayToIncrement[-1]=arrayToIncrement[-1]+1\n",
        "    print(arrayToIncrement)\n",
        "    return\n",
        "  else:\n",
        "    arrayToIncrement[-1]=0\n",
        "    for j in range(len(arrayToIncrement)-2,-1,-1):\n",
        "     \n",
        "      if(arrayToIncrement[j]==9):\n",
        "          arrayToIncrement[j]=0\n",
        "      else:\n",
        "           arrayToIncrement[j]=arrayToIncrement[j]+1\n",
        "           print(arrayToIncrement)\n",
        "           return\n",
        "  arrayToIncrement.insert(0,1)\n",
        "  print(arrayToIncrement)\n",
        "\n",
        "digits = [1,2,3]\n",
        "incrementByOne(digits)   \n",
        "\n",
        "digits = [9,9,9]\n",
        "incrementByOne(digits)"
      ],
      "metadata": {
        "colab": {
          "base_uri": "https://localhost:8080/"
        },
        "id": "wP1tlZWnoOXi",
        "outputId": "a2e033d5-82fa-4104-8d70-cd94304ef53b"
      },
      "execution_count": null,
      "outputs": [
        {
          "output_type": "stream",
          "name": "stdout",
          "text": [
            "[1, 2, 4]\n",
            "[1, 0, 0, 0]\n"
          ]
        }
      ]
    },
    {
      "cell_type": "markdown",
      "source": [
        "Question 6\n",
        "Given a non-empty array of integers nums, every element appears twice except\n",
        "for one. Find that single one.\n",
        "You must implement a solution with a linear runtime complexity and use only\n",
        "constant extra space.\n",
        "Example 1:\n",
        "Input: nums = [2,2,1]\n",
        "Output: 1"
      ],
      "metadata": {
        "id": "kZFL0WDnoQA6"
      }
    },
    {
      "cell_type": "code",
      "source": [
        "def findSingle(arr):\n",
        "  mydict={}\n",
        "  for i in range(len(arr)):\n",
        "    if(arr[i] not in mydict.keys()):\n",
        "      mydict[arr[i]]=1\n",
        "    else:\n",
        "      mydict[arr[i]]=mydict[arr[i]] + 1\n",
        "  print(list(mydict.keys())[list(mydict.values()).index(1)])  \n",
        "\n",
        "nums = [2,2,1] \n",
        "findSingle(nums)\n"
      ],
      "metadata": {
        "colab": {
          "base_uri": "https://localhost:8080/"
        },
        "id": "10C3PuHxoWy7",
        "outputId": "f2d1061b-2929-440d-d1a1-4c4dc774bc57"
      },
      "execution_count": null,
      "outputs": [
        {
          "output_type": "stream",
          "name": "stdout",
          "text": [
            "1\n"
          ]
        }
      ]
    },
    {
      "cell_type": "markdown",
      "source": [
        "Question 7\n",
        "You are given an inclusive range [lower, upper] and a sorted unique integer array\n",
        "nums, where all elements are within the inclusive range.\n",
        "A number x is considered missing if x is in the range [lower, upper] and x is not in\n",
        "nums.\n",
        "Return the shortest sorted list of ranges that exactly covers all the missing\n",
        "numbers. That is, no element of nums is included in any of the ranges, and each\n",
        "missing number is covered by one of the ranges.\n",
        "Example 1:\n",
        "Input: nums = [0,1,3,50,75], lower = 0, upper = 99\n",
        "Output: [[2,2],[4,49],[51,74],[76,99]]\n",
        "Explanation: The ranges are:\n",
        "[2,2]\n",
        "[4,49]\n",
        "[51,74]\n",
        "[76,99]"
      ],
      "metadata": {
        "id": "zYnOPNKVoXPi"
      }
    },
    {
      "cell_type": "code",
      "source": [
        "def findRange(arr,lower,upper):\n",
        "  output=[]\n",
        "  if(arr[0]!=lower):\n",
        "    output.append(list(lower,arr[0]-1))\n",
        "  for i in range(1,len(arr)-1):\n",
        "    if(arr[i+1]-arr[i] !=0):\n",
        "      output.append([arr[i]+1,arr[i+1]-1])\n",
        "  if(arr[-1]!= upper):\n",
        "       output.append([arr[-1]+1,upper]) \n",
        "  return output\n",
        "\n",
        "nums = [0,1,3,50,75]\n",
        "findRange(nums,0,99)\n",
        "\n",
        "\n",
        "nums = [0,1,30,500,715]\n",
        "findRange(nums,0,999)\n",
        "\n"
      ],
      "metadata": {
        "colab": {
          "base_uri": "https://localhost:8080/"
        },
        "id": "s4CKmwg1oYbM",
        "outputId": "6db5c417-591d-4ae5-bb5c-54c9d06960b0"
      },
      "execution_count": null,
      "outputs": [
        {
          "output_type": "execute_result",
          "data": {
            "text/plain": [
              "[[2, 29], [31, 499], [501, 714], [716, 999]]"
            ]
          },
          "metadata": {},
          "execution_count": 11
        }
      ]
    },
    {
      "cell_type": "markdown",
      "source": [
        "Question 8\n",
        "Given an array of meeting time intervals where intervals[i] = [starti, endi],\n",
        "determine if a person could attend all meetings.\n",
        "Example 1:\n",
        "Input: intervals = [[0,30],[5,10],[15,20]]\n",
        "Output: false"
      ],
      "metadata": {
        "id": "zkPS1dfeoY-i"
      }
    },
    {
      "cell_type": "code",
      "source": [
        "def findPossibility(arr):\n",
        "  for i in range(len(arr)-1):\n",
        "    for j in range(i+1,len(arr),1):\n",
        "      if(arr[i][0] >= arr[j][0] or arr[i][0]<=arr[j][1]):\n",
        "        return False\n",
        "  return True   \n",
        "intervals = [[0,30],[5,10],[15,20]]\n",
        "findPossibility(intervals)\n"
      ],
      "metadata": {
        "colab": {
          "base_uri": "https://localhost:8080/"
        },
        "id": "-O6Rwa6loaOk",
        "outputId": "6d060d21-bd0b-4178-b8e7-6dd9e73cfd13"
      },
      "execution_count": null,
      "outputs": [
        {
          "output_type": "execute_result",
          "data": {
            "text/plain": [
              "False"
            ]
          },
          "metadata": {},
          "execution_count": 3
        }
      ]
    },
    {
      "cell_type": "code",
      "source": [],
      "metadata": {
        "id": "tC9Mpqu0pyNM"
      },
      "execution_count": null,
      "outputs": []
    }
  ]
}