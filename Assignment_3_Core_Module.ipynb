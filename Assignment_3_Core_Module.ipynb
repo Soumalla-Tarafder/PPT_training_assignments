{
  "nbformat": 4,
  "nbformat_minor": 0,
  "metadata": {
    "colab": {
      "provenance": [],
      "include_colab_link": true
    },
    "kernelspec": {
      "name": "python3",
      "display_name": "Python 3"
    },
    "language_info": {
      "name": "python"
    }
  },
  "cells": [
    {
      "cell_type": "markdown",
      "metadata": {
        "id": "view-in-github",
        "colab_type": "text"
      },
      "source": [
        "<a href=\"https://colab.research.google.com/github/Soumalla-Tarafder/PPT_training_assignments/blob/main/Assignment_3_Core_Module.ipynb\" target=\"_parent\"><img src=\"https://colab.research.google.com/assets/colab-badge.svg\" alt=\"Open In Colab\"/></a>"
      ]
    },
    {
      "cell_type": "markdown",
      "source": [
        "1. Scenario: A company wants to analyze the sales performance of its products in different regions. They have collected the following data:\n",
        "   Region A: [10, 15, 12, 8, 14]\n",
        "   Region B: [18, 20, 16, 22, 25]\n",
        "   Calculate the mean sales for each region.\n",
        "\n",
        "2. Scenario: A survey is conducted to measure customer satisfaction on a scale of 1 to 5. The data collected is as follows:\n",
        "   [4, 5, 2, 3, 5, 4, 3, 2, 4, 5]\n",
        "   Calculate the mode of the survey responses.\n",
        "\n",
        "3. Scenario: A company wants to compare the salaries of two departments. The salary data for Department A and Department B are as follows:\n",
        "   Department A: [5000, 6000, 5500, 7000]\n",
        "   Department B: [4500, 5500, 5800, 6000, 5200]\n",
        "   Calculate the median salary for each department.\n",
        "\n",
        "4. Scenario: A data analyst wants to determine the variability in the daily stock prices of a company. The data collected is as follows:\n",
        "   [25.5, 24.8, 26.1, 25.3, 24.9]\n",
        "   Calculate the range of the stock prices.\n",
        "\n",
        "5. Scenario: A study is conducted to compare the performance of two different teaching methods. The test scores of the students in each group are as follows:\n",
        "   Group A: [85, 90, 92, 88, 91]\n",
        "   Group B: [82, 88, 90, 86, 87]\n",
        "   Perform a t-test to determine if there is a significant difference in the mean scores between the two groups.\n",
        "\n",
        "6. Scenario: A company wants to analyze the relationship between advertising expenditure and sales. The data collected is as follows:\n",
        "   Advertising Expenditure (in thousands): [10, 15, 12, 8, 14]\n",
        "   Sales (in thousands): [25, 30, 28, 20, 26]\n",
        "   Calculate the correlation coefficient between advertising expenditure and sales.\n",
        "\n",
        "7. Scenario: A survey is conducted to measure the heights of a group of people. The data collected is as follows:\n",
        "   [160, 170, 165, 155, 175, 180, 170]\n",
        "   Calculate the standard deviation of the heights.\n",
        "\n",
        "8. Scenario: A company wants to analyze the relationship between employee tenure and job satisfaction. The data collected is as follows:\n",
        "   Employee Tenure (in years): [2, 3, 5, 4, 6, 2, 4]\n",
        "   Job Satisfaction (on a scale of 1 to 10): [7, 8, 6, 9, 5, 7, 6]\n",
        "   Perform a linear regression analysis to predict job satisfaction based on employee tenure.\n",
        "\n",
        "9. Scenario: A study is conducted to compare the effectiveness of two different medications. The recovery times of the patients in each group are as follows:\n",
        "   Medication A: [10, 12, 14, 11, 13]\n",
        "   Medication B: [15, 17, 16, 14, 18]\n",
        "   Perform an analysis of variance (ANOVA) to determine if there is a significant difference in the mean recovery times between the two medications.\n",
        "\n",
        "10. Scenario: A company wants to analyze customer feedback ratings on a scale of 1 to 10. The data collected is\n",
        "\n",
        " as follows:\n",
        "    [8, 9, 7, 6, 8, 10, 9, 8, 7, 8]\n",
        "    Calculate the 75th percentile of the feedback ratings.\n",
        "\n",
        "11. Scenario: A quality control department wants to test the weight consistency of a product. The weights of a sample of products are as follows:\n",
        "    [10.2, 9.8, 10.0, 10.5, 10.3, 10.1]\n",
        "    Perform a hypothesis test to determine if the mean weight differs significantly from 10 grams.\n",
        "\n",
        "12. Scenario: A company wants to analyze the click-through rates of two different website designs. The number of clicks for each design is as follows:\n",
        "    Design A: [100, 120, 110, 90, 95]\n",
        "    Design B: [80, 85, 90, 95, 100]\n",
        "    Perform a chi-square test to determine if there is a significant difference in the click-through rates between the two designs.\n",
        "\n",
        "13. Scenario: A survey is conducted to measure customer satisfaction with a product on a scale of 1 to 10. The data collected is as follows:\n",
        "    [7, 9, 6, 8, 10, 7, 8, 9, 7, 8]\n",
        "    Calculate the 95% confidence interval for the population mean satisfaction score.\n",
        "\n",
        "14. Scenario: A company wants to analyze the effect of temperature on product performance. The data collected is as follows:\n",
        "    Temperature (in degrees Celsius): [20, 22, 23, 19, 21]\n",
        "    Performance (on a scale of 1 to 10): [8, 7, 9, 6, 8]\n",
        "    Perform a simple linear regression to predict performance based on temperature.\n",
        "\n",
        "15. Scenario: A study is conducted to compare the preferences of two groups of participants. The preferences are measured on a Likert scale from 1 to 5. The data collected is as follows:\n",
        "    Group A: [4, 3, 5, 2, 4]\n",
        "    Group B: [3, 2, 4, 3, 3]\n",
        "    Perform a Mann-Whitney U test to determine if there is a significant difference in the median preferences between the two groups.\n",
        "\n",
        "16. Scenario: A company wants to analyze the distribution of customer ages. The data collected is as follows:\n",
        "    [25, 30, 35, 40, 45, 50, 55, 60, 65, 70]\n",
        "    Calculate the interquartile range (IQR) of the ages.\n",
        "\n",
        "17. Scenario: A study is conducted to compare the performance of three different machine learning algorithms. The accuracy scores for each algorithm are as follows:\n",
        "    Algorithm A: [0.85, 0.80, 0.82, 0.87, 0.83]\n",
        "    Algorithm B: [0.78, 0.82, 0.84, 0.80, 0.79]\n",
        "    Algorithm C: [0.90, 0.88, 0.89, 0.86, 0.87]\n",
        "    Perform a Kruskal-Wallis test to determine if there is a significant difference in the median accuracy scores between the algorithms.\n",
        "\n",
        "18. Scenario: A company wants to analyze the effect of price on sales. The data collected is as follows:\n",
        "    Price (in dollars): [10, 15, 12, 8, 14]\n",
        "    Sales: [100, 80, 90, 110, 95]\n",
        "    Perform a simple linear regression to predict\n",
        "\n",
        " sales based on price.\n",
        "\n",
        "19. Scenario: A survey is conducted to measure the satisfaction levels of customers with a new product. The data collected is as follows:\n",
        "    [7, 8, 9, 6, 8, 7, 9, 7, 8, 7]\n",
        "    Calculate the standard error of the mean satisfaction score.\n",
        "\n",
        "20. Scenario: A company wants to analyze the relationship between advertising expenditure and sales. The data collected is as follows:\n",
        "    Advertising Expenditure (in thousands): [10, 15, 12, 8, 14]\n",
        "    Sales (in thousands): [25, 30, 28, 20, 26]\n",
        "    Perform a multiple regression analysis to predict sales based on advertising expenditure.\n"
      ],
      "metadata": {
        "id": "aB2rvDixPjxl"
      }
    },
    {
      "cell_type": "code",
      "source": [
        "#1.\n",
        "Region A: [10, 15, 12, 8, 14]\n",
        "\n",
        "-->Mean = 11.8\n",
        "\n",
        "Region B: [18, 20, 16, 22, 25]\n",
        "\n",
        "-->Mean = 20.20\n"
      ],
      "metadata": {
        "id": "mpqdjTiWPoPs"
      },
      "execution_count": null,
      "outputs": []
    },
    {
      "cell_type": "code",
      "source": [
        "#2.\n",
        "values =  [4, 5, 2, 3, 5, 4, 3, 2, 4, 5]\n",
        "sortedvalues = [2,2,3,3,4,4,4,5,5,5]\n",
        "\n",
        "-->Mode = 4,5"
      ],
      "metadata": {
        "id": "54Yrk0uBQFaD"
      },
      "execution_count": null,
      "outputs": []
    },
    {
      "cell_type": "code",
      "source": [
        "#3.\n",
        "\n",
        "Department A: [5000, 6000, 5500, 7000]\n",
        "Sorted Department A: [5000,5500,6000,7000]\n",
        "\n",
        "-->Median = (5500+6000)/2 == 5750\n",
        "\n",
        "Department B: [4500, 5500, 5800, 6000, 5200]\n",
        "Sorted Department  B: [4500,5200,5500,5800,6000]\n",
        "\n",
        "-->Median = 5500"
      ],
      "metadata": {
        "id": "NQBRBMI3QFWx"
      },
      "execution_count": null,
      "outputs": []
    },
    {
      "cell_type": "code",
      "source": [
        "#4.\n",
        "\n",
        "Stock:  [25.5, 24.8, 26.1, 25.3, 24.9]\n",
        "Sorted Stock: [24.8,24.9,25.3,25.5,26.1]\n",
        "\n",
        "-->Range = 26.1-24.8 ==> 1.3"
      ],
      "metadata": {
        "id": "T4iBHLAfQFUF"
      },
      "execution_count": null,
      "outputs": []
    },
    {
      "cell_type": "code",
      "source": [
        "#5.\n",
        "\n",
        "Group A: [85, 90, 92, 88, 91]\n",
        "Group B: [82, 88, 90, 86, 87]\n",
        "\n",
        "\n",
        "We will use 2 sample t-test\n",
        "\n",
        "h0= There have no significance Difference in Mean\n",
        "h1= There have significance Difference in Mean\n",
        "\n",
        "Group a mean = 89.2\n",
        "Group a variance = 7.7\n",
        "Group a std = 2.77\n",
        "\n",
        "Group b mean = 86.6\n",
        "Group b variance = 8.8\n",
        "Group b std = 2.96\n",
        "\n",
        "\n",
        "t-test value = 1.43\n",
        "\n",
        "Degree Of Freedom = n1+n2 - 2 =8\n",
        "\n",
        "Value from t table with 95 confidence interval is - 2.306\n",
        "\n",
        "our value lies between -2.306 to 2.306 as this is a two tailed test\n",
        "\n",
        "so our t test value lies in this range and we accept the null hypothesis and reject the alternate hypothesis.\n",
        "\n",
        "\n",
        "\n",
        "or\n",
        "\n",
        "t-test value = 1.43 this value is equivalent to 0.30 value from t-table ,\n",
        "and 0.30 > 0.05\n",
        "so again we accept the null hypothesis and reject the alternate hypothesis."
      ],
      "metadata": {
        "id": "uxvu4XD2QFQ9"
      },
      "execution_count": null,
      "outputs": []
    },
    {
      "cell_type": "code",
      "source": [
        "7.\n",
        "data=[160, 170, 165, 155, 175, 180, 170]\n",
        "mean = 167.85\n",
        "\n",
        "variance = 63.26\n",
        "std=7.95"
      ],
      "metadata": {
        "id": "0-3Ft8O0QFN0"
      },
      "execution_count": null,
      "outputs": []
    },
    {
      "cell_type": "code",
      "source": [
        "10.\n",
        " data = [8, 9, 7, 6, 8, 10, 9, 8, 7, 8]\n",
        " sorteddata=[6,7,7,8,8,8,8,9,9,10]\n",
        "\n",
        " 75pecentile = 75/100*(11) = 9\n",
        ""
      ],
      "metadata": {
        "id": "H7alyQ7lQFK-"
      },
      "execution_count": null,
      "outputs": []
    },
    {
      "cell_type": "code",
      "source": [
        "11.\n",
        "data = [10.2, 9.8, 10.0, 10.5, 10.3, 10.1]\n",
        "mean = 10.15\n",
        "mean not significantly differ from 10 grms"
      ],
      "metadata": {
        "id": "AMkHA1ibQFHc"
      },
      "execution_count": null,
      "outputs": []
    },
    {
      "cell_type": "code",
      "source": [
        "13.\n",
        "x =7.9, the mean of the sample scores\n",
        "z =1.96, the critical value for a 95% confidence level\n",
        "s =1.197, the standard deviation of the sample scores\n",
        "n =10, the sample size\n",
        "\n",
        "The confidence interval is then:\n",
        "7.9 ± 1.96(1.197/10)\n",
        "Simplifying, we get:\n",
        "7.9±0.74\n",
        "The lower and upper bounds of the interval are:\n",
        "\n",
        "7.9 - 0.74=7.16\n",
        "7.9 + 0.74=8.64\n",
        "\n",
        "Therefore, the 95% confidence interval for the population mean satisfaction score is (7.16, 8.64)."
      ],
      "metadata": {
        "id": "ZIT8-QBYQFEC"
      },
      "execution_count": null,
      "outputs": []
    },
    {
      "cell_type": "code",
      "source": [
        "16.\n",
        "sortedData = [25, 30, 35, 40, 45, 50, 55, 60, 65, 70]\n",
        "\n",
        "1stquantile= 35\n",
        "\n",
        "3rdquantile= 60\n",
        "\n",
        "iqr = (60-35) = 25\n",
        "\n",
        "lowerfence = 35 - 1.5 * 25 = -2.5\n",
        "higherfence = 60 + 1.5 * 25 = 97.5"
      ],
      "metadata": {
        "id": "MpZutSuWQFAc"
      },
      "execution_count": null,
      "outputs": []
    },
    {
      "cell_type": "code",
      "source": [],
      "metadata": {
        "id": "5GvyDybtQE7z"
      },
      "execution_count": null,
      "outputs": []
    },
    {
      "cell_type": "code",
      "source": [],
      "metadata": {
        "id": "9T6yBTN1QEnD"
      },
      "execution_count": null,
      "outputs": []
    }
  ]
}