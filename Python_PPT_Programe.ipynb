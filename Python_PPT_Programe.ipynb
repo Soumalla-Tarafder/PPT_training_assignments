{
  "nbformat": 4,
  "nbformat_minor": 0,
  "metadata": {
    "colab": {
      "provenance": [],
      "include_colab_link": true
    },
    "kernelspec": {
      "name": "python3",
      "display_name": "Python 3"
    },
    "language_info": {
      "name": "python"
    }
  },
  "cells": [
    {
      "cell_type": "markdown",
      "metadata": {
        "id": "view-in-github",
        "colab_type": "text"
      },
      "source": [
        "<a href=\"https://colab.research.google.com/github/Soumalla-Tarafder/PPT_training_assignments/blob/main/Python_PPT_Programe.ipynb\" target=\"_parent\"><img src=\"https://colab.research.google.com/assets/colab-badge.svg\" alt=\"Open In Colab\"/></a>"
      ]
    },
    {
      "cell_type": "code",
      "source": [],
      "metadata": {
        "id": "67EhlwdypkYV"
      },
      "execution_count": null,
      "outputs": []
    },
    {
      "cell_type": "markdown",
      "source": [
        "1. Write a Python program to reverse a string without using any built-in string reversal functions.\n",
        "2. Implement a function to check if a given string is a palindrome.\n",
        "3. Write a program to find the largest element in a given list.\n",
        "4. Implement a function to count the occurrence of each element in a list.\n",
        "5. Write a Python program to find the second largest number in a list.\n",
        "6. Implement a function to remove duplicate elements from a list.\n",
        "7. Write a program to calculate the factorial of a given number.\n",
        "8. Implement a function to check if a given number is prime.\n",
        "9. Write a Python program to sort a list of integers in ascending order.\n",
        "10. Implement a function to find the sum of all numbers in a list.\n",
        "11. Write a program to find the common elements between two lists.\n",
        "12. Implement a function to check if a given string is an anagram of another string.\n",
        "13. Write a Python program to generate all permutations of a given string.\n",
        "14. Implement a function to calculate the Fibonacci sequence up to a given number of terms.\n",
        "15. Write a program to find the median of a list of numbers.\n",
        "16. Implement a function to check if a given list is sorted in non-decreasing order.\n",
        "17. Write a Python program to find the intersection of two lists.\n",
        "18. Implement a function to find the maximum subarray sum in a given list.\n",
        "19. Write a program to remove all vowels from a given string.\n",
        "20. Implement a function to reverse the order of words in a given sentence.\n",
        "21. Write a Python program to check if two strings are anagrams of each other.\n",
        "22. Implement a function to find the first non-repeating character in a string.\n",
        "23. Write a program to find the prime factors of a given number.\n",
        "24. Implement a function to check if a given number is a power of two.\n",
        "25. Write a Python program to merge two sorted lists into a single sorted list.\n",
        "26. Implement a function to find the mode of a list of numbers.\n",
        "27. Write a program to find the greatest common divisor (GCD) of two numbers.\n",
        "28. Implement a function to calculate the square root of a given number.\n",
        "29. Write a Python program to check if a given string is a valid palindrome ignoring non-alphanumeric characters.\n",
        "30. Implement a function to find the minimum element in a rotated sorted list.\n",
        "31. Write a program to find the sum of all even numbers in a list.\n",
        "32. Implement a function to calculate the power of a number using recursion.\n",
        "33. Write a Python program to remove duplicates from a list while preserving the order.\n",
        "34. Implement a function to find the longest common prefix among a list of strings.\n",
        "35. Write a program to check if a given number is a perfect square.\n",
        "36. Implement a function to calculate the product of all elements in a list.\n",
        "37. Write a Python program to reverse the order of words in a sentence while preserving the word order.\n",
        "38. Implement a function to find the missing number in a given list of consecutive numbers.\n",
        "39. Write a program to find the sum of digits of a given number.\n",
        "40. Implement a function to check if a given string is a valid palindrome considering case sensitivity.\n",
        "41. Write a Python program to find the smallest missing positive integer in a list.\n",
        "42. Implement a function to find the longest palindrome substring in a given string.\n",
        "43. Write a program to find the number of occurrences of a given element in a list.\n",
        "44. Implement a function to check if a given number is a perfect number.\n",
        "45. Write a Python program to remove all duplicates from a string.\n",
        "46. Implement a function to find the first missing positive\n"
      ],
      "metadata": {
        "id": "I_tjyp-gplc1"
      }
    },
    {
      "cell_type": "code",
      "source": [
        "#1.\n",
        "str=\"abc\"\n",
        "print(str[::-1])"
      ],
      "metadata": {
        "colab": {
          "base_uri": "https://localhost:8080/"
        },
        "id": "9pSRN0fjpvIn",
        "outputId": "7c7e6943-6e8e-453b-a1cf-11338c04b2b4"
      },
      "execution_count": 1,
      "outputs": [
        {
          "output_type": "stream",
          "name": "stdout",
          "text": [
            "cba\n"
          ]
        }
      ]
    },
    {
      "cell_type": "code",
      "source": [
        "#2.\n",
        "def checkpal(str):\n",
        "  if(str == str[::-1]):\n",
        "    print(True)\n",
        "  else:\n",
        "    print(False)\n",
        "  return\n",
        "checkpal(\"aba\")"
      ],
      "metadata": {
        "colab": {
          "base_uri": "https://localhost:8080/"
        },
        "id": "ieFWkOdQp7iw",
        "outputId": "1ede0cd8-a0bd-45c3-c8ae-efae626e48f1"
      },
      "execution_count": 2,
      "outputs": [
        {
          "output_type": "stream",
          "name": "stdout",
          "text": [
            "True\n"
          ]
        }
      ]
    },
    {
      "cell_type": "code",
      "source": [
        "#3.\n",
        "l=[1,2,3,41]\n",
        "print(max(l))"
      ],
      "metadata": {
        "colab": {
          "base_uri": "https://localhost:8080/"
        },
        "id": "h_Pfll8MqaaF",
        "outputId": "02114a66-6fe4-4e87-cf2c-be0d2f182553"
      },
      "execution_count": 3,
      "outputs": [
        {
          "output_type": "stream",
          "name": "stdout",
          "text": [
            "41\n"
          ]
        }
      ]
    },
    {
      "cell_type": "code",
      "source": [
        "#5\n",
        "def find2ndmax(l):\n",
        "  l.remove(max(l))\n",
        "  return max(l)\n",
        "\n",
        "l=[1,2,3]\n",
        "find2ndmax(l)"
      ],
      "metadata": {
        "colab": {
          "base_uri": "https://localhost:8080/"
        },
        "id": "5pGDnNwdqjDm",
        "outputId": "d71e2990-d058-49e2-9d49-48e6489cd04a"
      },
      "execution_count": 4,
      "outputs": [
        {
          "output_type": "execute_result",
          "data": {
            "text/plain": [
              "2"
            ]
          },
          "metadata": {},
          "execution_count": 4
        }
      ]
    },
    {
      "cell_type": "code",
      "source": [
        "#6\n",
        "def removeDuplicate(l):\n",
        "  a=set(l)\n",
        "  return list(a)\n",
        "\n",
        "l=[1,2,3,2]\n",
        "removeDuplicate(l)"
      ],
      "metadata": {
        "colab": {
          "base_uri": "https://localhost:8080/"
        },
        "id": "gufUFnMyq5dV",
        "outputId": "f61b90c5-6ad0-419d-ffcc-1d11b8a90089"
      },
      "execution_count": 6,
      "outputs": [
        {
          "output_type": "execute_result",
          "data": {
            "text/plain": [
              "[1, 2, 3]"
            ]
          },
          "metadata": {},
          "execution_count": 6
        }
      ]
    },
    {
      "cell_type": "code",
      "source": [
        "#7\n",
        "def fact(l):\n",
        "  sum=1\n",
        "  for i in l:\n",
        "    sum*=i\n",
        "  return sum\n",
        "\n",
        "l=[1,2,3]\n",
        "fact(l)\n"
      ],
      "metadata": {
        "colab": {
          "base_uri": "https://localhost:8080/"
        },
        "id": "u38m7FpGrcj2",
        "outputId": "3a523367-89d9-41d7-cd07-652aba132c92"
      },
      "execution_count": 7,
      "outputs": [
        {
          "output_type": "execute_result",
          "data": {
            "text/plain": [
              "6"
            ]
          },
          "metadata": {},
          "execution_count": 7
        }
      ]
    },
    {
      "cell_type": "code",
      "source": [
        "#10\n",
        "def summ(l):\n",
        "  sum=0\n",
        "  for i in l:\n",
        "    sum+=i\n",
        "  return sum\n",
        "\n",
        "l=[1,2,3]\n",
        "summ(l)"
      ],
      "metadata": {
        "colab": {
          "base_uri": "https://localhost:8080/"
        },
        "id": "LZWI53Ror0mm",
        "outputId": "98e60021-cef0-42cd-aca6-bfe76d93c007"
      },
      "execution_count": 8,
      "outputs": [
        {
          "output_type": "execute_result",
          "data": {
            "text/plain": [
              "6"
            ]
          },
          "metadata": {},
          "execution_count": 8
        }
      ]
    },
    {
      "cell_type": "code",
      "source": [
        "#8\n",
        "def prime(l):\n",
        "  for i in range(2,l-1):\n",
        "    if(l%i == 0):\n",
        "      return False\n",
        "  return True\n",
        "\n",
        "l=7\n",
        "prime(l)"
      ],
      "metadata": {
        "colab": {
          "base_uri": "https://localhost:8080/"
        },
        "id": "XQJ3X6v5r_sb",
        "outputId": "1378f159-3382-4457-e95c-038b0bcdbaad"
      },
      "execution_count": 10,
      "outputs": [
        {
          "output_type": "execute_result",
          "data": {
            "text/plain": [
              "True"
            ]
          },
          "metadata": {},
          "execution_count": 10
        }
      ]
    },
    {
      "cell_type": "code",
      "source": [
        "#11\n",
        "def commonElement(l1,l2):\n",
        "\n",
        "  for i in l1:\n",
        "    if i in l2:\n",
        "      print(i)\n",
        "\n",
        "l=[1,2,3]\n",
        "commonElement(l,l)"
      ],
      "metadata": {
        "colab": {
          "base_uri": "https://localhost:8080/"
        },
        "id": "o7eSG798sR0u",
        "outputId": "b00e09e2-a75c-4234-fbe8-da414a7d4462"
      },
      "execution_count": 12,
      "outputs": [
        {
          "output_type": "stream",
          "name": "stdout",
          "text": [
            "1\n",
            "2\n",
            "3\n"
          ]
        }
      ]
    },
    {
      "cell_type": "code",
      "source": [
        "#15\n",
        "\n",
        "def medianarr(l):\n",
        "  l.sort()\n",
        "  if(len(l) %2 == 0):\n",
        "    return l[len(l) // 2] + l[(len(l) // 2)+1]\n",
        "  else:\n",
        "    return l[len(l) // 2]\n",
        "\n",
        "medianarr([1,2,3])"
      ],
      "metadata": {
        "colab": {
          "base_uri": "https://localhost:8080/"
        },
        "id": "t8X0DcZMsrNU",
        "outputId": "cc5b6647-3ce3-4ffb-dd84-1d541c5b196d"
      },
      "execution_count": 13,
      "outputs": [
        {
          "output_type": "execute_result",
          "data": {
            "text/plain": [
              "2"
            ]
          },
          "metadata": {},
          "execution_count": 13
        }
      ]
    },
    {
      "cell_type": "code",
      "source": [
        "#17\n",
        "def intersectionElement(l1,l2):\n",
        "\n",
        "  for i in l1:\n",
        "    if i not in l2:\n",
        "      print(i)\n",
        "  for j in l2:\n",
        "    if j not in l1:\n",
        "      print(j)\n",
        "\n",
        "l=[1,2,3]\n",
        "intersectionElement(l,[1,2,4])"
      ],
      "metadata": {
        "colab": {
          "base_uri": "https://localhost:8080/"
        },
        "id": "PdsTG8kouzrK",
        "outputId": "e5e335bb-85b7-4daf-935f-b7143cf20273"
      },
      "execution_count": 15,
      "outputs": [
        {
          "output_type": "stream",
          "name": "stdout",
          "text": [
            "3\n",
            "4\n"
          ]
        }
      ]
    },
    {
      "cell_type": "code",
      "source": [
        "#16\n",
        "def nonDesecdingArray(l1):\n",
        "\n",
        "  for i in range(0,len(l1)-1):\n",
        "    if(l1[i] > l1[i+1]):\n",
        "      return False\n",
        "  return True\n",
        "\n",
        "\n",
        "l=[4,2,3]\n",
        "nonDesecdingArray(l)"
      ],
      "metadata": {
        "colab": {
          "base_uri": "https://localhost:8080/"
        },
        "id": "q_0hS07VvSYS",
        "outputId": "7280b9f7-f610-4c70-ec13-f50d692a4354"
      },
      "execution_count": 17,
      "outputs": [
        {
          "output_type": "execute_result",
          "data": {
            "text/plain": [
              "False"
            ]
          },
          "metadata": {},
          "execution_count": 17
        }
      ]
    },
    {
      "cell_type": "code",
      "source": [],
      "metadata": {
        "id": "ldvxgQYOwIAL"
      },
      "execution_count": null,
      "outputs": []
    }
  ]
}