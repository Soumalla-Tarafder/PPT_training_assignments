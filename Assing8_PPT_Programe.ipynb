{
  "nbformat": 4,
  "nbformat_minor": 0,
  "metadata": {
    "colab": {
      "provenance": []
    },
    "kernelspec": {
      "name": "python3",
      "display_name": "Python 3"
    },
    "language_info": {
      "name": "python"
    }
  },
  "cells": [
    {
      "cell_type": "markdown",
      "source": [
        "<aside>\n",
        "💡 **Question 1**\n",
        "\n",
        "Given two strings s1 and s2, return *the lowest **ASCII** sum of deleted characters to make two strings equal*.\n",
        "\n",
        "**Example 1:**\n",
        "\n",
        "**Input:** s1 = \"sea\", s2 = \"eat\"\n",
        "\n",
        "**Output:** 231\n",
        "\n",
        "**Explanation:** Deleting \"s\" from \"sea\" adds the ASCII value of \"s\" (115) to the sum.\n",
        "\n",
        "Deleting \"t\" from \"eat\" adds 116 to the sum.\n",
        "\n",
        "At the end, both strings are equal, and 115 + 116 = 231 is the minimum sum possible to achieve this.\n",
        "\n",
        "</aside>"
      ],
      "metadata": {
        "id": "hZh9YhXThygZ"
      }
    },
    {
      "cell_type": "code",
      "source": [
        "def findLowestAsciiSum(s1,s2):\n",
        "  wordCount={}\n",
        "  result=0\n",
        "  for i in s1:\n",
        "    if i in wordCount:\n",
        "      wordCount[i] = wordCount[i]+1\n",
        "    else:\n",
        "      wordCount[i] = 1  \n",
        "  for j in s2:\n",
        "    if j in wordCount:\n",
        "      wordCount[j] = wordCount[j]+1\n",
        "    else:\n",
        "      wordCount[j] = 1  \n",
        "  value = [i for i in wordCount if wordCount[i]%2==1]\n",
        "  for i in value:\n",
        "    result=result+ord(i)\n",
        "  return result\n",
        "\n",
        "\n",
        "s1 = \"seaa\"\n",
        "s2 = \"eat\"  \n",
        "findLowestAsciiSum(s1,s2)  \n",
        "\n",
        "s1 = \"sea\"\n",
        "s2 = \"eat\"  \n",
        "findLowestAsciiSum(s1,s2)  "
      ],
      "metadata": {
        "colab": {
          "base_uri": "https://localhost:8080/"
        },
        "id": "R7g5M20Mh0J6",
        "outputId": "bc1f699b-e0b6-4b57-b75e-3bc5f11d993e"
      },
      "execution_count": null,
      "outputs": [
        {
          "output_type": "execute_result",
          "data": {
            "text/plain": [
              "231"
            ]
          },
          "metadata": {},
          "execution_count": 11
        }
      ]
    },
    {
      "cell_type": "markdown",
      "source": [
        "<aside>\n",
        "💡 **Question 2**\n",
        "\n",
        "Given a string s containing only three types of characters: '(', ')' and '*', return true *if* s *is **valid***.\n",
        "\n",
        "The following rules define a **valid** string:\n",
        "\n",
        "- Any left parenthesis '(' must have a corresponding right parenthesis ')'.\n",
        "- Any right parenthesis ')' must have a corresponding left parenthesis '('.\n",
        "- Left parenthesis '(' must go before the corresponding right parenthesis ')'.\n",
        "- '*' could be treated as a single right parenthesis ')' or a single left parenthesis '(' or an empty string \"\".\n",
        "\n",
        "**Example 1:**\n",
        "\n",
        "**Input:** s = \"()\"\n",
        "\n",
        "**Output:**\n",
        "\n",
        "true\n",
        "\n",
        "</aside>"
      ],
      "metadata": {
        "id": "w59VRpNMh0lR"
      }
    },
    {
      "cell_type": "code",
      "source": [
        "def findValidString(word):\n",
        "  countInverted=0\n",
        "  countParenthesis=0\n",
        "  for i in word:\n",
        "    if i==\"(\":\n",
        "      countParenthesis+=1\n",
        "    elif i==\")\":\n",
        "      countParenthesis-=1\n",
        "    else:\n",
        "      countInverted+=1\n",
        "    if countParenthesis < 0:\n",
        "      return False\n",
        "  if countParenthesis==0:\n",
        "    return True\n",
        "s = \"()\"\n",
        "findValidString(s)    \n"
      ],
      "metadata": {
        "id": "wMs2UZjhh1qd",
        "colab": {
          "base_uri": "https://localhost:8080/"
        },
        "outputId": "921c190e-801d-45f2-cde3-d7329845eaae"
      },
      "execution_count": 1,
      "outputs": [
        {
          "output_type": "execute_result",
          "data": {
            "text/plain": [
              "True"
            ]
          },
          "metadata": {},
          "execution_count": 1
        }
      ]
    },
    {
      "cell_type": "markdown",
      "source": [
        "<aside>\n",
        "💡 **Question 3**\n",
        "\n",
        "Given two strings word1 and word2, return *the minimum number of **steps** required to make* word1 *and* word2 *the same*.\n",
        "\n",
        "In one **step**, you can delete exactly one character in either string.\n",
        "\n",
        "**Example 1:**\n",
        "\n",
        "**Input:** word1 = \"sea\", word2 = \"eat\"\n",
        "\n",
        "**Output:** 2\n",
        "\n",
        "**Explanation:** You need one step to make \"sea\" to \"ea\" and another step to make \"eat\" to \"ea\".\n",
        "\n",
        "</aside>"
      ],
      "metadata": {
        "id": "aWM-iCO_h2Yw"
      }
    },
    {
      "cell_type": "code",
      "source": [
        "def similarWord(word1,word2):\n",
        "  count=0\n",
        "  for i in word1:\n",
        "    if i not in word2:\n",
        "      count+=1\n",
        "  for j in word2:\n",
        "    if j not in word1:\n",
        "      count+=1\n",
        "\n",
        "  return count\n",
        "word1 = \"sea\"\n",
        "word2 = \"eat\"\n",
        "similarWord(word1,word2)           "
      ],
      "metadata": {
        "id": "Tu7CUv3Uh3sR",
        "colab": {
          "base_uri": "https://localhost:8080/"
        },
        "outputId": "51e9530f-83cb-4e45-d372-88f0c72b29f8"
      },
      "execution_count": 2,
      "outputs": [
        {
          "output_type": "execute_result",
          "data": {
            "text/plain": [
              "2"
            ]
          },
          "metadata": {},
          "execution_count": 2
        }
      ]
    },
    {
      "cell_type": "markdown",
      "source": [
        "<aside>\n",
        "💡 **Question 4**\n",
        "\n",
        "You need to construct a binary tree from a string consisting of parenthesis and integers.\n",
        "\n",
        "The whole input represents a binary tree. It contains an integer followed by zero, one or two pairs of parenthesis. The integer represents the root's value and a pair of parenthesis contains a child binary tree with the same structure.\n",
        "You always start to construct the **left** child node of the parent first if it exists.\n",
        "\n",
        "</aside>\n",
        "**Input:** s = \"4(2(3)(1))(6(5))\"\n",
        "\n",
        "**Output:** [4,2,6,3,1,5]"
      ],
      "metadata": {
        "id": "PElaj-qqh4B4"
      }
    },
    {
      "cell_type": "code",
      "source": [],
      "metadata": {
        "id": "sFmtEzDjh6IG"
      },
      "execution_count": null,
      "outputs": []
    },
    {
      "cell_type": "markdown",
      "source": [
        "<aside>\n",
        "💡 **Question 5**\n",
        "\n",
        "Given an array of characters chars, compress it using the following algorithm:\n",
        "\n",
        "Begin with an empty string s. For each group of **consecutive repeating characters** in chars:\n",
        "\n",
        "- If the group's length is 1, append the character to s.\n",
        "- Otherwise, append the character followed by the group's length.\n",
        "\n",
        "The compressed string s **should not be returned separately**, but instead, be stored **in the input character array chars**. Note that group lengths that are 10 or longer will be split into multiple characters in chars.\n",
        "\n",
        "After you are done **modifying the input array,** return *the new length of the array*.\n",
        "\n",
        "You must write an algorithm that uses only constant extra space.\n",
        "\n",
        "**Example 1:**\n",
        "\n",
        "**Input:** chars = [\"a\",\"a\",\"b\",\"b\",\"c\",\"c\",\"c\"]\n",
        "\n",
        "**Output:** Return 6, and the first 6 characters of the input array should be: [\"a\",\"2\",\"b\",\"2\",\"c\",\"3\"]\n",
        "\n",
        "**Explanation:**\n",
        "\n",
        "The groups are \"aa\", \"bb\", and \"ccc\". This compresses to \"a2b2c3\".\n",
        "\n",
        "</aside>"
      ],
      "metadata": {
        "id": "zLA_bRbmh6do"
      }
    },
    {
      "cell_type": "code",
      "source": [
        "def encodeString(wordArr):\n",
        "  wordCount={}\n",
        "  result=[]\n",
        "  for i in wordArr:\n",
        "    if i in wordCount:\n",
        "      wordCount[i] = wordCount[i]+1\n",
        "    else:\n",
        "      wordCount[i] = 1\n",
        "\n",
        "  for chr in wordCount:\n",
        "    if(wordCount[chr] < 10):\n",
        "      result.append(chr)\n",
        "      result.append(wordCount[chr])\n",
        "    else:\n",
        "      count=wordCount[chr]\n",
        "      while count>9:\n",
        "        result.appen(chr)\n",
        "        result.append(9)\n",
        "        count=count-9\n",
        "      if(count>0):\n",
        "        result.append(chr)\n",
        "        result.append(count)\n",
        "  return len(result)\n",
        "chars = [\"a\",\"a\",\"b\",\"b\",\"c\",\"c\",\"c\"]\n",
        "encodeString(chars)\n",
        "\n",
        "\n",
        "  \n",
        "\n",
        "  \n"
      ],
      "metadata": {
        "id": "mdyvHKdeh7jG",
        "colab": {
          "base_uri": "https://localhost:8080/"
        },
        "outputId": "67585f3a-df5a-469a-c4c4-69e39c017326"
      },
      "execution_count": 33,
      "outputs": [
        {
          "output_type": "execute_result",
          "data": {
            "text/plain": [
              "6"
            ]
          },
          "metadata": {},
          "execution_count": 33
        }
      ]
    },
    {
      "cell_type": "markdown",
      "source": [
        "<aside>\n",
        "💡 **Question 6**\n",
        "\n",
        "Given two strings s and p, return *an array of all the start indices of* p*'s anagrams in* s. You may return the answer in **any order**.\n",
        "\n",
        "An **Anagram** is a word or phrase formed by rearranging the letters of a different word or phrase, typically using all the original letters exactly once.\n",
        "\n",
        "**Example 1:**\n",
        "\n",
        "**Input:** s = \"cbaebabacd\", p = \"abc\"\n",
        "\n",
        "**Output:** [0,6]\n",
        "\n",
        "**Explanation:**\n",
        "\n",
        "The substring with start index = 0 is \"cba\", which is an anagram of \"abc\".\n",
        "\n",
        "The substring with start index = 6 is \"bac\", which is an anagram of \"abc\".\n",
        "\n",
        "</aside>"
      ],
      "metadata": {
        "id": "Yo045Xnth74o"
      }
    },
    {
      "cell_type": "code",
      "source": [
        "def findAnagramPosition(word,target):\n",
        "  n=len(target)\n",
        "  result=[]\n",
        "  for i in range(len(word) - n):\n",
        "    findWord=word[i:i+n]\n",
        "    if(sorted(findWord) == sorted(target)):\n",
        "      result.append(i)\n",
        "  return result\n",
        "\n",
        "s = \"cbaebabacd\"\n",
        "findAnagramPosition(s,\"abc\")"
      ],
      "metadata": {
        "id": "9lXe-GJth88S",
        "colab": {
          "base_uri": "https://localhost:8080/"
        },
        "outputId": "0884a98c-b84b-476c-915a-50dd44421e45"
      },
      "execution_count": 41,
      "outputs": [
        {
          "output_type": "execute_result",
          "data": {
            "text/plain": [
              "[0, 6]"
            ]
          },
          "metadata": {},
          "execution_count": 41
        }
      ]
    },
    {
      "cell_type": "code",
      "source": [
        "s = \"abc\"\n",
        "a=s[1:2]\n"
      ],
      "metadata": {
        "id": "M_Z7_gwnTVvM"
      },
      "execution_count": 39,
      "outputs": []
    },
    {
      "cell_type": "markdown",
      "source": [
        "<aside>\n",
        "💡 **Question 7**\n",
        "\n",
        "Given an encoded string, return its decoded string.\n",
        "\n",
        "The encoding rule is: k[encoded_string], where the encoded_string inside the square brackets is being repeated exactly k times. Note that k is guaranteed to be a positive integer.\n",
        "\n",
        "You may assume that the input string is always valid; there are no extra white spaces, square brackets are well-formed, etc. Furthermore, you may assume that the original data does not contain any digits and that digits are only for those repeat numbers, k. For example, there will not be input like 3a or 2[4].\n",
        "\n",
        "The test cases are generated so that the length of the output will never exceed 105.\n",
        "\n",
        "**Example 1:**\n",
        "\n",
        "**Input:** s = \"3[a]2[bc]\"\n",
        "\n",
        "**Output:** \"aaabcbc\"\n",
        "\n",
        "</aside>"
      ],
      "metadata": {
        "id": "xEGsfZp0h9QR"
      }
    },
    {
      "cell_type": "code",
      "source": [
        "def decodeString(word):\n",
        "  i=0\n",
        "  finalString=\"\"\n",
        "  while i <len(word)-1:\n",
        "    if(word[i+1]==\"[\"):\n",
        "      j=i+2\n",
        "      st=\"\"\n",
        "      while word[j] !=\"]\":\n",
        "        st=st+word[j]\n",
        "        j+=1\n",
        " \n",
        "    finalString=finalString+int(word[i])*st\n",
        "    i+=len(st)+3 \n",
        "  return finalString\n",
        "s=\"3[a]2[bc]\" \n",
        "decodeString(s)"
      ],
      "metadata": {
        "id": "V_uXi8h7h964",
        "colab": {
          "base_uri": "https://localhost:8080/",
          "height": 36
        },
        "outputId": "60395b97-5c34-4b3e-8af9-fad32e87cb24"
      },
      "execution_count": 28,
      "outputs": [
        {
          "output_type": "execute_result",
          "data": {
            "text/plain": [
              "'aaabcbc'"
            ],
            "application/vnd.google.colaboratory.intrinsic+json": {
              "type": "string"
            }
          },
          "metadata": {},
          "execution_count": 28
        }
      ]
    },
    {
      "cell_type": "markdown",
      "source": [
        "\n",
        "\n",
        "<aside>\n",
        "💡 **Question 8**\n",
        "\n",
        "Given two strings s and goal, return true *if you can swap two letters in* s *so the result is equal to* goal*, otherwise, return* false*.*\n",
        "\n",
        "Swapping letters is defined as taking two indices i and j (0-indexed) such that i != j and swapping the characters at s[i] and s[j].\n",
        "\n",
        "- For example, swapping at indices 0 and 2 in \"abcd\" results in \"cbad\".\n",
        "\n",
        "**Example 1:**\n",
        "\n",
        "**Input:** s = \"ab\", goal = \"ba\"\n",
        "\n",
        "**Output:** true\n",
        "\n",
        "**Explanation:** You can swap s[0] = 'a' and s[1] = 'b' to get \"ba\", which is equal to goal.\n",
        "\n",
        "</aside>"
      ],
      "metadata": {
        "id": "fAp5wSPXh-KB"
      }
    },
    {
      "cell_type": "code",
      "source": [
        "def swapString(word1,word2):\n",
        "  if(len(word1) != len(word2)):\n",
        "    return False\n",
        "\n",
        "  else:\n",
        "    wordList1=list(word1)\n",
        "    wordList2=list(word2)\n",
        "    for i in range(len(wordList1)):\n",
        "      if(wordList1[i] != wordList2[i]):\n",
        "        if(word1.find(wordList2[i]) == -1):\n",
        "          return False\n",
        "        else:\n",
        "          temp=  wordList1[word1.find(wordList2[i])]\n",
        "          wordList1[word1.find(wordList2[i])] = wordList1[i]\n",
        "          wordList1[i] = temp\n",
        "  return True\n",
        "\n",
        "s = \"ab\"\n",
        "goal = \"ba\"   \n",
        "swapString(s,goal)        "
      ],
      "metadata": {
        "id": "ewJuSCH2h-3R",
        "colab": {
          "base_uri": "https://localhost:8080/"
        },
        "outputId": "44601973-6e9b-42c2-c27d-12239c4a8c42"
      },
      "execution_count": 29,
      "outputs": [
        {
          "output_type": "execute_result",
          "data": {
            "text/plain": [
              "True"
            ]
          },
          "metadata": {},
          "execution_count": 29
        }
      ]
    },
    {
      "cell_type": "code",
      "source": [],
      "metadata": {
        "id": "_lXQ7LLEClDO"
      },
      "execution_count": null,
      "outputs": []
    }
  ]
}