{
  "nbformat": 4,
  "nbformat_minor": 0,
  "metadata": {
    "colab": {
      "provenance": [],
      "include_colab_link": true
    },
    "kernelspec": {
      "name": "python3",
      "display_name": "Python 3"
    },
    "language_info": {
      "name": "python"
    }
  },
  "cells": [
    {
      "cell_type": "markdown",
      "metadata": {
        "id": "view-in-github",
        "colab_type": "text"
      },
      "source": [
        "<a href=\"https://colab.research.google.com/github/Soumalla-Tarafder/PPT_training_assignments/blob/main/Assing11_PPT_Programe.ipynb\" target=\"_parent\"><img src=\"https://colab.research.google.com/assets/colab-badge.svg\" alt=\"Open In Colab\"/></a>"
      ]
    },
    {
      "cell_type": "markdown",
      "source": [
        "<aside>\n",
        "💡 **Question 1**\n",
        "\n",
        "Given a non-negative integer `x`, return *the square root of* `x` *rounded down to the nearest integer*. The returned integer should be **non-negative** as well.\n",
        "\n",
        "You **must not use** any built-in exponent function or operator.\n",
        "\n",
        "- For example, do not use `pow(x, 0.5)` in c++ or `x ** 0.5` in python.\n",
        " \n",
        "Input: x = 4\n",
        "Output: 2\n",
        "Explanation: The square root of 4 is 2, so we return 2.\n",
        "\n",
        "\n",
        "</aside>"
      ],
      "metadata": {
        "id": "hZh9YhXThygZ"
      }
    },
    {
      "cell_type": "code",
      "source": [
        "def findnearestIntegerSquareRoot(num):\n",
        "  i=0\n",
        "  while i<num:\n",
        "    \n",
        "    if round(i,2)*round(i,2) == num:\n",
        "      print(round(i))\n",
        "      return\n",
        "    i=i+0.1\n",
        "\n",
        "findnearestIntegerSquareRoot(6.25)"
      ],
      "metadata": {
        "colab": {
          "base_uri": "https://localhost:8080/"
        },
        "id": "7ePwKAIV69BD",
        "outputId": "d6be682e-6720-4dfd-b890-69226c84fad5"
      },
      "execution_count": null,
      "outputs": [
        {
          "output_type": "stream",
          "name": "stdout",
          "text": [
            "3\n"
          ]
        }
      ]
    },
    {
      "cell_type": "markdown",
      "source": [
        "<aside>\n",
        "💡 **Question 2**\n",
        "\n",
        "A peak element is an element that is strictly greater than its neighbors.\n",
        "\n",
        "Given a **0-indexed** integer array `nums`, find a peak element, and return its index. If the array contains multiple peaks, return the index to **any of the peaks**.\n",
        "\n",
        "You may imagine that `nums[-1] = nums[n] = -∞`. In other words, an element is always considered to be strictly greater than a neighbor that is outside the array.\n",
        "\n",
        "You must write an algorithm that runs in `O(log n)` time.\n",
        "\n",
        "Input: nums = [1,2,3,1]\n",
        "Output: 2\n",
        "Explanation: 3 is a peak element and your function should return the index number 2.\n",
        "</aside>"
      ],
      "metadata": {
        "id": "XvcktJvF7BAp"
      }
    },
    {
      "cell_type": "code",
      "source": [],
      "metadata": {
        "id": "udxG_B9o7EKs"
      },
      "execution_count": null,
      "outputs": []
    },
    {
      "cell_type": "markdown",
      "source": [
        "<aside>\n",
        "💡 **Question 3**\n",
        "\n",
        "****\n",
        "\n",
        "Given an array `nums` containing `n` distinct numbers in the range `[0, n]`, return *the only number in the range that is missing from the array.*\n",
        "\n",
        "Input: nums = [3,0,1]\n",
        "Output: 2\n",
        "Explanation: n = 3 since there are 3 numbers, so all numbers are in the range [0,3]. 2 is the missing number in the range since it does not appear in nums.\n",
        "\n",
        "</aside>"
      ],
      "metadata": {
        "id": "6ZMC_yjd7Eto"
      }
    },
    {
      "cell_type": "code",
      "source": [
        "def findNotPresentNumber(nums):\n",
        "  \n",
        "  max=0\n",
        "  for i in nums:\n",
        "    if max<i:\n",
        "      max=i\n",
        "\n",
        "  for i in range(0,max):\n",
        "    if i not in nums:\n",
        "      return i\n",
        "nums = [3,0,1]\n",
        "findNotPresentNumber(nums)\n",
        "\n",
        "\n"
      ],
      "metadata": {
        "colab": {
          "base_uri": "https://localhost:8080/"
        },
        "id": "O2iv05Cw7Iyt",
        "outputId": "99172bc3-0aa6-46af-f193-f17512cb56a9"
      },
      "execution_count": null,
      "outputs": [
        {
          "output_type": "execute_result",
          "data": {
            "text/plain": [
              "2"
            ]
          },
          "metadata": {},
          "execution_count": 31
        }
      ]
    },
    {
      "cell_type": "markdown",
      "source": [
        "<aside>\n",
        "💡 **Question 4**\n",
        "\n",
        "Given an array of integers `nums` containing `n + 1` integers where each integer is in the range `[1, n]` inclusive.\n",
        "\n",
        "There is only **one repeated number** in `nums`, return *this repeated number*.\n",
        "\n",
        "You must solve the problem **without** modifying the array `nums` and uses only constant extra space.\n",
        "\n",
        "\n",
        "Input: nums = [1,3,4,2,2]\n",
        "Output: 2\n",
        "\n",
        "\n",
        "Input: nums = [3,1,3,4,2]\n",
        "Output: 3\n",
        "</aside>"
      ],
      "metadata": {
        "id": "O0KtnBcw7JPQ"
      }
    },
    {
      "cell_type": "code",
      "source": [
        "def findRepeatedNumber(nums):\n",
        "  sum=0\n",
        "  max=0\n",
        "  for i in nums:\n",
        "    if max<i:\n",
        "      max=i\n",
        "    sum+=i\n",
        "  \n",
        "  finalSum=(max*(max+1)) // 2\n",
        "\n",
        "  return sum-finalSum\n",
        "nums = [1,3,4,2,2]\n",
        "arr=[3,1,3,4,2]\n",
        "findRepeatedNumber(arr)\n"
      ],
      "metadata": {
        "colab": {
          "base_uri": "https://localhost:8080/"
        },
        "id": "9dPuS6ly7TA4",
        "outputId": "26807735-5c40-4cfc-a86b-bf86ab348a58"
      },
      "execution_count": null,
      "outputs": [
        {
          "output_type": "execute_result",
          "data": {
            "text/plain": [
              "3"
            ]
          },
          "metadata": {},
          "execution_count": 30
        }
      ]
    },
    {
      "cell_type": "markdown",
      "source": [
        "<aside>\n",
        "💡 **Question 5**\n",
        "\n",
        "Given two integer arrays `nums1` and `nums2`, return *an array of their intersection*. Each element in the result must be **unique** and you may return the result in **any order**.\n",
        "\n",
        "\n",
        "Input: nums1 = [1,2,2,1], nums2 = [2,2]\n",
        "Output: [2]\n",
        "\n",
        "\n",
        "Input: nums1 = [4,9,5], nums2 = [9,4,9,8,4]\n",
        "Output: [9,4]\n",
        "Explanation: [4,9] is also accepted.\n",
        "</aside>"
      ],
      "metadata": {
        "id": "ikwIbYQ37SK4"
      }
    },
    {
      "cell_type": "code",
      "source": [
        "def uniqueIntersection(arr1,arr2):\n",
        "  newarr=[]\n",
        "  for i in arr1:\n",
        "    if i in arr2:\n",
        "      if i not in newarr:\n",
        "        newarr.append(i)\n",
        "  return newarr\n",
        "\n",
        "nums2 = [4,9,5]\n",
        "nums1 = [9,4,9,8,4]\n",
        "uniqueIntersection(nums1,nums2)"
      ],
      "metadata": {
        "colab": {
          "base_uri": "https://localhost:8080/"
        },
        "id": "qn8E1gRH7VtJ",
        "outputId": "696b6cf4-56d7-4784-8c9b-059e662d0995"
      },
      "execution_count": null,
      "outputs": [
        {
          "output_type": "execute_result",
          "data": {
            "text/plain": [
              "[9, 4]"
            ]
          },
          "metadata": {},
          "execution_count": 24
        }
      ]
    },
    {
      "cell_type": "markdown",
      "source": [
        "<aside>\n",
        "💡 **Question 6**\n",
        "\n",
        "Suppose an array of length `n` sorted in ascending order is **rotated** between `1` and `n` times. For example, the array `nums = [0,1,2,4,5,6,7]` might become:\n",
        "\n",
        "- `[4,5,6,7,0,1,2]` if it was rotated `4` times.\n",
        "- `[0,1,2,4,5,6,7]` if it was rotated `7` times.\n",
        "\n",
        "Notice that **rotating** an array `[a[0], a[1], a[2], ..., a[n-1]]` 1 time results in the array `[a[n-1], a[0], a[1], a[2], ..., a[n-2]]`.\n",
        "\n",
        "Given the sorted rotated array `nums` of **unique** elements, return *the minimum element of this array*.\n",
        "\n",
        "You must write an algorithm that runs in `O(log n) time.`\n",
        "\n",
        "Input: nums = [3,4,5,1,2]\n",
        "Output: 1\n",
        "Explanation: The original array was [1,2,3,4,5] rotated 3 times.\n",
        "\n",
        "</aside>"
      ],
      "metadata": {
        "id": "CvW4pOMD7Y4o"
      }
    },
    {
      "cell_type": "code",
      "source": [
        "def findminimum(arr):\n",
        "  i=0\n",
        "  j=-1\n",
        "  while(arr[i]>arr[j]):\n",
        "    i=j\n",
        "    j=j-1\n",
        "\n",
        "  return arr[i]\n",
        "nums = [3,4,5,1,2] \n",
        "findminimum(nums)"
      ],
      "metadata": {
        "id": "njSREcY67akD",
        "colab": {
          "base_uri": "https://localhost:8080/"
        },
        "outputId": "3ca92114-6ba1-4653-a862-0c2c90ca4f12"
      },
      "execution_count": 1,
      "outputs": [
        {
          "output_type": "execute_result",
          "data": {
            "text/plain": [
              "1"
            ]
          },
          "metadata": {},
          "execution_count": 1
        }
      ]
    },
    {
      "cell_type": "markdown",
      "source": [
        "<aside>\n",
        "💡 **Question 7**\n",
        "\n",
        "Given an array of integers `nums` sorted in non-decreasing order, find the starting and ending position of a given `target` value.\n",
        "\n",
        "If `target` is not found in the array, return `[-1, -1]`.\n",
        "\n",
        "You must write an algorithm with `O(log n)` runtime complexity.\n",
        "\n",
        "Input: nums = [5,7,7,8,8,10], target = 8\n",
        "Output: [3,4]\n",
        "\n",
        "</aside>"
      ],
      "metadata": {
        "id": "l4mfSHkE7d4g"
      }
    },
    {
      "cell_type": "code",
      "source": [
        "def findStartEnd(arr,target):\n",
        "  l=0\n",
        "  n=len(arr)\n",
        "  start=end=-1\n",
        "  while(l<n):\n",
        "    mid = (l+n)//2\n",
        "    if(arr[mid] == target):\n",
        "      start=mid\n",
        "      \n",
        "      break\n",
        "    elif(mid>target):\n",
        "      \n",
        "      n=mid-1\n",
        "    else:\n",
        "      \n",
        "      l=mid+1\n",
        "  \n",
        "  y=start\n",
        "  while(y > 0):\n",
        "    if(arr[y-1]==target):\n",
        "      end=y\n",
        "      y=y-1\n",
        "    else:\n",
        "      break\n",
        "  x=start\n",
        "  while(x < len(arr)-1):\n",
        "    if(arr[x+1]==target):\n",
        "      end=x+1\n",
        "      x=x+1\n",
        "    else:\n",
        "      break \n",
        "\n",
        "  print(start,end)\n",
        "\n",
        "target = 8\n",
        "nums = [5,7,7,8,8,10]\n",
        "findStartEnd(nums,target)\n"
      ],
      "metadata": {
        "colab": {
          "base_uri": "https://localhost:8080/"
        },
        "id": "1VOD91pR7f8s",
        "outputId": "bd962827-2ba0-4289-e7e7-319c03d777e1"
      },
      "execution_count": null,
      "outputs": [
        {
          "output_type": "stream",
          "name": "stdout",
          "text": [
            "3 4\n"
          ]
        }
      ]
    },
    {
      "cell_type": "markdown",
      "source": [
        "<aside>\n",
        "💡 **Question 8**\n",
        "\n",
        "Given two integer arrays `nums1` and `nums2`, return *an array of their intersection*. Each element in the result must appear as many times as it shows in both arrays and you may return the result in **any order**.\n",
        "\n",
        "Input: nums1 = [1,2,2,1], nums2 = [2,2]\n",
        "Output: [2,2]\n",
        "\n",
        "</aside>"
      ],
      "metadata": {
        "id": "2TgBBY9R7iq4"
      }
    },
    {
      "cell_type": "code",
      "source": [
        "def intersection(arr1,arr2):\n",
        "  newarr=[]\n",
        "  for i in arr1:\n",
        "    if i in arr2:\n",
        "      newarr.append(i)\n",
        "  return newarr\n",
        "\n",
        "nums2 = [2,2]\n",
        "nums1 = [1,2,2,1]\n",
        "intersection(nums1,nums2)\n"
      ],
      "metadata": {
        "colab": {
          "base_uri": "https://localhost:8080/"
        },
        "id": "7OU6jfIH7kdG",
        "outputId": "4ef5530e-9b40-4f32-b978-91736a6ed2bc"
      },
      "execution_count": null,
      "outputs": [
        {
          "output_type": "execute_result",
          "data": {
            "text/plain": [
              "[2, 2]"
            ]
          },
          "metadata": {},
          "execution_count": 15
        }
      ]
    },
    {
      "cell_type": "code",
      "source": [],
      "metadata": {
        "id": "Qa5Im1pV8F7G"
      },
      "execution_count": null,
      "outputs": []
    }
  ]
}