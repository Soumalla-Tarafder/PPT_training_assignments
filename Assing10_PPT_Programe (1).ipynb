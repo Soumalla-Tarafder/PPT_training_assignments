{
  "nbformat": 4,
  "nbformat_minor": 0,
  "metadata": {
    "colab": {
      "provenance": []
    },
    "kernelspec": {
      "name": "python3",
      "display_name": "Python 3"
    },
    "language_info": {
      "name": "python"
    }
  },
  "cells": [
    {
      "cell_type": "markdown",
      "source": [
        "<aside>\n",
        "💡 **Question 1**\n",
        "\n",
        "Given an integer `n`, return *`true` if it is a power of three. Otherwise, return `false`*.\n",
        "\n",
        "An integer `n` is a power of three, if there exists an integer `x` such that `n == 3x`.\n",
        "\n",
        "</aside>\n",
        "Input: \n",
        "n = 27\n",
        "Output: true\n",
        "Explanation: 27 = 33\n",
        "\n",
        "Input: \n",
        "n = 0\n",
        "Output: false\n",
        "Explanation: There is no x where 3x = 0.\n",
        "\n",
        "Input: \n",
        "n = -1\n",
        "Output: false\n",
        "Explanation: There is no x where 3x = (-1).\n"
      ],
      "metadata": {
        "id": "hZh9YhXThygZ"
      }
    },
    {
      "cell_type": "code",
      "source": [
        "def powerOfThree(target,multiplier):\n",
        "  if(target % 3*multiplier != 0):\n",
        "    if((multiplier)/3 % 3 ==0):\n",
        "      \n",
        "      print(\"True\")\n",
        "      return \n",
        "    else:\n",
        "      return powerOfThree(target,multiplier+1)\n",
        "  if(multiplier == target):\n",
        "    \n",
        "    print(\"False\")\n",
        "    return \n",
        "  return powerOfThree(target,multiplier+1)\n",
        "\n",
        "\n",
        "powerOfThree(33,1)  "
      ],
      "metadata": {
        "colab": {
          "base_uri": "https://localhost:8080/"
        },
        "id": "0yzUSQzIYmjG",
        "outputId": "1c7c1843-cfc1-4154-d8c1-11a8b4e2d24f"
      },
      "execution_count": 21,
      "outputs": [
        {
          "output_type": "stream",
          "name": "stdout",
          "text": [
            "False\n"
          ]
        }
      ]
    },
    {
      "cell_type": "markdown",
      "source": [
        "<aside>\n",
        "💡 **Question 2**\n",
        "\n",
        "You have a list `arr` of all integers in the range `[1, n]` sorted in a strictly increasing order. Apply the following algorithm on `arr`:\n",
        "\n",
        "- Starting from left to right, remove the first number and every other number afterward until you reach the end of the list.\n",
        "- Repeat the previous step again, but this time from right to left, remove the rightmost number and every other number from the remaining numbers.\n",
        "- Keep repeating the steps again, alternating left to right and right to left, until a single number remains.\n",
        "\n",
        "Given the integer `n`, return *the last number that remains in* `arr`.\n",
        "\n",
        "</aside>\n",
        "Input: n = 9\n",
        "Output: 6\n",
        "Explanation:\n",
        "arr = [1, 2,3, 4,5, 6,7, 8,9]\n",
        "arr = [2,4, 6,8]\n",
        "arr = [2, 6]\n",
        "arr = [6]\n",
        "\n",
        "Input: n = 1\n",
        "Output: 1"
      ],
      "metadata": {
        "id": "MfKoDy8DYyt_"
      }
    },
    {
      "cell_type": "code",
      "source": [],
      "metadata": {
        "id": "AkyxXDTPY1uy"
      },
      "execution_count": null,
      "outputs": []
    },
    {
      "cell_type": "markdown",
      "source": [
        "<aside>\n",
        "💡 **Question 3**\n",
        "\n",
        "****Given a set represented as a string, write a recursive code to print all subsets of it. The subsets can be printed in any order.\n",
        "\n",
        "**Example 1:**\n",
        "\n",
        "Input :  set = “abc”\n",
        "\n",
        "Output : { “”, “a”, “b”, “c”, “ab”, “ac”, “bc”, “abc”}\n",
        "\n",
        "**Example 2:**\n",
        "\n",
        "Input : set = “abcd”\n",
        "\n",
        "Output : { “”, “a” ,”ab” ,”abc” ,”abcd”, “abd” ,”ac” ,”acd”, “ad” ,”b”, “bc” ,”bcd” ,”bd” ,”c” ,”cd” ,”d” }\n",
        "\n",
        "</aside>"
      ],
      "metadata": {
        "id": "noBfh7UaY6A2"
      }
    },
    {
      "cell_type": "code",
      "source": [
        "def subString(word,output):\n",
        "  if(len(word) == 0):\n",
        "    print(output,end=\"\")\n",
        "    return\n",
        "  subString(word[1:],output + word[0])\n",
        "  print()\n",
        "  subString(word[1:],output)\n",
        "   \n",
        "\n",
        "\n",
        "output=\"\"\n",
        "word=\"abcd\"\n",
        "subString(word,output)\n"
      ],
      "metadata": {
        "colab": {
          "base_uri": "https://localhost:8080/"
        },
        "id": "Jejtr7rmY6w8",
        "outputId": "dbd348f9-7f9f-4ea6-a251-3495b5571d3b"
      },
      "execution_count": 3,
      "outputs": [
        {
          "output_type": "stream",
          "name": "stdout",
          "text": [
            "abcd\n",
            "abc\n",
            "abd\n",
            "ab\n",
            "acd\n",
            "ac\n",
            "ad\n",
            "a\n",
            "bcd\n",
            "bc\n",
            "bd\n",
            "b\n",
            "cd\n",
            "c\n",
            "d\n"
          ]
        }
      ]
    },
    {
      "cell_type": "markdown",
      "source": [
        "<aside>\n",
        "💡 **Question 4**\n",
        "\n",
        "Given a string calculate length of the string using recursion.\n",
        "\n",
        "**Examples:**\n",
        "\n",
        "</aside>\n",
        "Input : str = \"abcd\"\n",
        "Output :4\n",
        "\n",
        "Input : str = \"GEEKSFORGEEKS\"\n",
        "Output :13"
      ],
      "metadata": {
        "id": "qV7wiiADY7IA"
      }
    },
    {
      "cell_type": "code",
      "source": [
        "def findLength(word,length):\n",
        "  try:\n",
        "    if(word[length] == None):\n",
        "      print(length)\n",
        "      return\n",
        "  except:\n",
        "    print(length)\n",
        "    return\n",
        "\n",
        "    \n",
        "  findLength(list(word),length+1)\n",
        "\n",
        "word=\"abcd\"\n",
        "findLength(word,0)   "
      ],
      "metadata": {
        "colab": {
          "base_uri": "https://localhost:8080/"
        },
        "id": "8ASmTQ-zY9zD",
        "outputId": "433c5548-07de-44c1-e1eb-a2ff64578381"
      },
      "execution_count": 55,
      "outputs": [
        {
          "output_type": "stream",
          "name": "stdout",
          "text": [
            "4\n"
          ]
        }
      ]
    },
    {
      "cell_type": "markdown",
      "source": [
        "<aside>\n",
        "💡 **Question 5**\n",
        "\n",
        "We are given a string S, we need to find count of all contiguous substrings starting and ending with same character.\n",
        "\n",
        "**Examples :**\n",
        "\n",
        "Input  : S = \"abcab\"\n",
        "Output : 7\n",
        "There are 15 substrings of \"abcab\"\n",
        "a, ab, abc, abca, abcab, b, bc, bca\n",
        "bcab, c, ca, cab, a, ab, b\n",
        "Out of the above substrings, there\n",
        "are 7 substrings : a, abca, b, bcab,\n",
        "c, a and b.\n",
        "\n",
        "Input  : S = \"aba\"\n",
        "Output : 4\n",
        "The substrings are a, b, a and aba\n",
        "</aside>"
      ],
      "metadata": {
        "id": "S7hpznIrY-QO"
      }
    },
    {
      "cell_type": "code",
      "source": [
        "def subStringWithSameCharacter(word,output,count):\n",
        "  if(len(word) == 0):\n",
        "    if(len(output) !=0 and output[0] == output[-1]):\n",
        "      count+=1\n",
        "      print(output,end=\"\")\n",
        "    print(count)  \n",
        "    return\n",
        "  subStringWithSameCharacter(word[1:],output + word[0],count)\n",
        "  print()\n",
        "  subStringWithSameCharacter(word[1:],output,count)\n",
        "   \n",
        "\n",
        "\n",
        "output=\"\"\n",
        "word=\"abcd\"\n",
        "subStringWithSameCharacter(word,output,0)"
      ],
      "metadata": {
        "colab": {
          "base_uri": "https://localhost:8080/"
        },
        "id": "ZIRZ7VKxZEnE",
        "outputId": "a50cde73-d9d1-477b-dd20-a5a344784ba1"
      },
      "execution_count": 7,
      "outputs": [
        {
          "output_type": "stream",
          "name": "stdout",
          "text": [
            "0\n",
            "\n",
            "0\n",
            "\n",
            "0\n",
            "\n",
            "0\n",
            "\n",
            "0\n",
            "\n",
            "0\n",
            "\n",
            "0\n",
            "\n",
            "a1\n",
            "\n",
            "0\n",
            "\n",
            "0\n",
            "\n",
            "0\n",
            "\n",
            "b1\n",
            "\n",
            "0\n",
            "\n",
            "c1\n",
            "\n",
            "d1\n",
            "\n",
            "0\n"
          ]
        }
      ]
    },
    {
      "cell_type": "markdown",
      "source": [
        "<aside>\n",
        "💡 **Question 6**\n",
        "\n",
        "The [tower of Hanoi](https://en.wikipedia.org/wiki/Tower_of_Hanoi) is a famous puzzle where we have three rods and **N** disks. The objective of the puzzle is to move the entire stack to another rod. You are given the number of discs **N**. Initially, these discs are in the rod 1. You need to print all the steps of discs movement so that all the discs reach the 3rd rod. Also, you need to find the total moves.**Note:** The discs are arranged such that the **top disc is numbered 1** and the **bottom-most disc is numbered N**. Also, all the discs have **different sizes** and a bigger disc **cannot** be put on the top of a smaller disc. Refer the provided link to get a better clarity about the puzzle.\n",
        "\n",
        "Input:\n",
        "N = 2\n",
        "Output:\n",
        "\n",
        "move disk 1 from rod 1 to rod 2\n",
        "\n",
        "move disk 2 from rod 1 to rod 3\n",
        "\n",
        "move disk 1 from rod 2 to rod 3\n",
        "\n",
        "3\n",
        "Explanation:For N=2 , steps will be\n",
        "as follows in the example and total\n",
        "3 steps will be taken.\n",
        "\n",
        "</aside>"
      ],
      "metadata": {
        "id": "1sNNvqwtZIF3"
      }
    },
    {
      "cell_type": "code",
      "source": [
        "def tower(diskNo,start,end,middle):\n",
        "  if diskNo==1:\n",
        "    print(f\"disk move form {start} to {end}\")\n",
        "    return\n",
        "  tower(diskNo-1,start,middle,end)\n",
        "  tower(diskNo-1,middle,end,start)\n",
        "\n",
        "tower(4,'a','b','c')"
      ],
      "metadata": {
        "colab": {
          "base_uri": "https://localhost:8080/"
        },
        "id": "vhKbJsFxZKrj",
        "outputId": "8b67a458-5d0f-4a6a-d3a7-e2a658c5ccfd"
      },
      "execution_count": 13,
      "outputs": [
        {
          "output_type": "stream",
          "name": "stdout",
          "text": [
            "disk move form a to c\n",
            "disk move form c to b\n",
            "disk move form b to a\n",
            "disk move form a to c\n",
            "disk move form c to b\n",
            "disk move form b to a\n",
            "disk move form a to c\n",
            "disk move form c to b\n"
          ]
        }
      ]
    },
    {
      "cell_type": "markdown",
      "source": [
        "<aside>\n",
        "💡 **Question 7**\n",
        "\n",
        "Given a string **str**, the task is to print all the permutations of **str**. A **permutation** is an arrangement of all or part of a set of objects, with regard to the order of the arrangement. For instance, the words ‘bat’ and ‘tab’ represents two distinct permutation (or arrangements) of a similar three letter word.\n",
        "\n",
        "**Examples:**\n",
        "\n",
        "> Input: str = “cd”\n",
        "> \n",
        "> \n",
        "> **Output:** cd dc\n",
        "> \n",
        "> **Input:** str = “abb”\n",
        "> \n",
        "> **Output:** abb abb bab bba bab bba\n",
        "> \n",
        "</aside>"
      ],
      "metadata": {
        "id": "sYWIxqVDZWZe"
      }
    },
    {
      "cell_type": "code",
      "source": [
        "def word(a):\n",
        "  return \"\".join(a)\n",
        "  \n",
        "\n",
        "def permutation(a,l,r):\n",
        "  if(l==r):\n",
        "    print(word(a))\n",
        "  else:\n",
        "    for i in range(l,r+1):\n",
        "      a[l],a[i]=a[i],a[l] \n",
        "      permutation(a,l+1,r)\n",
        "      a[l],a[i]=a[i],a[l] \n",
        "\n",
        "S = list(\"ABB\")\n",
        "r=len(S)\n",
        "l=0\n",
        "permutation(S,l,r-1)"
      ],
      "metadata": {
        "colab": {
          "base_uri": "https://localhost:8080/"
        },
        "id": "4RnUi64PZXM7",
        "outputId": "02eb6118-47aa-413a-b399-02ecfc878cda"
      },
      "execution_count": 48,
      "outputs": [
        {
          "output_type": "stream",
          "name": "stdout",
          "text": [
            "ABB\n",
            "ABB\n",
            "BAB\n",
            "BBA\n",
            "BBA\n",
            "BAB\n"
          ]
        }
      ]
    },
    {
      "cell_type": "markdown",
      "source": [
        "<aside>\n",
        "💡 **Question 8**\n",
        "\n",
        "Given a string, count total number of consonants in it. A consonant is an English alphabet character that is not vowel (a, e, i, o and u). Examples of constants are b, c, d, f, and g.\n",
        "\n",
        "**Examples :**\n",
        "\n",
        "Input : abc de\n",
        "\n",
        "Output : 3\n",
        "\n",
        "There are three consonants b, c and d.\n",
        "\n",
        "Input : geeksforgeeks portal\n",
        "\n",
        "Output : 12\n",
        "\n",
        "</aside>"
      ],
      "metadata": {
        "id": "iLHoR33IZXm_"
      }
    },
    {
      "cell_type": "code",
      "source": [
        "def countConsunents(word,total,count):\n",
        "  vowels=['a','e','i','o','u','A','E','I','O','U']\n",
        "  if(count==len(word)-1):\n",
        "    print(total)\n",
        "    return\n",
        "  else:\n",
        "    if(word[count] not in vowels):\n",
        "      total+=1\n",
        "    countConsunents(word,total,count+1)\n",
        "\n",
        "Input = \"geeksforgeeks portal\"\n",
        "countConsunents(Input,0,0)"
      ],
      "metadata": {
        "colab": {
          "base_uri": "https://localhost:8080/"
        },
        "id": "eykOiok3ZY4w",
        "outputId": "a259f3e9-df6c-42e8-873a-6b2f7e978eb9"
      },
      "execution_count": 47,
      "outputs": [
        {
          "output_type": "stream",
          "name": "stdout",
          "text": [
            "12\n"
          ]
        }
      ]
    },
    {
      "cell_type": "code",
      "source": [],
      "metadata": {
        "id": "G9RkujP5aYgl"
      },
      "execution_count": null,
      "outputs": []
    }
  ]
}