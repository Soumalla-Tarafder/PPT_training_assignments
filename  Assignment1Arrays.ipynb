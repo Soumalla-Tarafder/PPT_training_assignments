{
  "nbformat": 4,
  "nbformat_minor": 0,
  "metadata": {
    "colab": {
      "provenance": [],
      "gpuType": "T4",
      "authorship_tag": "ABX9TyPY+CKyVBD1XH/g3gJWIEuB",
      "include_colab_link": true
    },
    "kernelspec": {
      "name": "python3",
      "display_name": "Python 3"
    },
    "language_info": {
      "name": "python"
    },
    "gpuClass": "standard"
  },
  "cells": [
    {
      "cell_type": "markdown",
      "metadata": {
        "id": "view-in-github",
        "colab_type": "text"
      },
      "source": [
        "<a href=\"https://colab.research.google.com/github/Soumalla-Tarafder/PPT_training_assignments/blob/main/%20Assignment1Arrays.ipynb\" target=\"_parent\"><img src=\"https://colab.research.google.com/assets/colab-badge.svg\" alt=\"Open In Colab\"/></a>"
      ]
    },
    {
      "cell_type": "markdown",
      "source": [
        "<aside>\n",
        "💡 **Q1.** Given an array of integers nums and an integer target, return indices of the two numbers such that they add up to target.\n",
        "\n",
        "You may assume that each input would have exactly one solution, and you may not use the same element twice.\n",
        "\n",
        "You can return the answer in any order.\n",
        "\n",
        "**Example:**\n",
        "Input: nums = [2,7,11,15], target = 9\n",
        "Output0 [0,1]\n",
        "\n",
        "**Explanation:** Because nums[0] + nums[1] == 9, we return [0, 1][\n",
        "\n",
        "</aside>"
      ],
      "metadata": {
        "id": "_dcMSMo_P6WE"
      }
    },
    {
      "cell_type": "code",
      "source": [
        "def findTarget(arrayofIntegers,target):\n",
        "  for i in range(len(arrayofIntegers)-1):\n",
        "    for j in range(i+1,len(arrayofIntegers),1):\n",
        "      if(arrayofIntegers[i]+arrayofIntegers[j]==target):\n",
        "        print(i,j)\n",
        "        return\n",
        "  print(\"No result found\")\n",
        "\n",
        "nums = [2,7,11,15]\n",
        "target = 9\n",
        "findTarget(nums,target)\n",
        "\n",
        "#2nd test\n",
        "\n",
        "nums = [32,12,11,15]\n",
        "target = 9\n",
        "findTarget(nums,target)"
      ],
      "metadata": {
        "colab": {
          "base_uri": "https://localhost:8080/"
        },
        "id": "xlWkCssNP8zr",
        "outputId": "07186da6-92b8-4129-ea98-793909e0b4f6"
      },
      "execution_count": 1,
      "outputs": [
        {
          "output_type": "stream",
          "name": "stdout",
          "text": [
            "0 1\n",
            "No result found\n"
          ]
        }
      ]
    },
    {
      "cell_type": "markdown",
      "source": [
        "<aside>\n",
        "💡 **Q2.** Given an integer array nums and an integer val, remove all occurrences of val in nums in-place. The order of the elements may be changed. Then return the number of elements in nums which are not equal to val.\n",
        "\n",
        "Consider the number of elements in nums which are not equal to val be k, to get accepted, you need to do the following things:\n",
        "\n",
        "- Change the array nums such that the first k elements of nums contain the elements which are not equal to val. The remaining elements of nums are not important as well as the size of nums.\n",
        "- Return k.\n",
        "\n",
        "**Example :**\n",
        "Input: nums = [3,2,2,3], val = 3\n",
        "Output: 2, nums = [2,2,_*,_*]\n",
        "\n",
        "**Explanation:** Your function should return k = 2, with the first two elements of nums being 2. It does not matter what you leave beyond the returned k (hence they are underscores)[\n",
        "\n",
        "</aside>"
      ],
      "metadata": {
        "id": "4PW6X4XVRgsT"
      }
    },
    {
      "cell_type": "code",
      "source": [
        "def removeVarInArray(arrayToDelete,var):\n",
        "  totalNumberOfVar=0\n",
        "  for i in arrayToDelete:\n",
        "    if(i==var):\n",
        "      arrayToDelete.remove(i)\n",
        "      arrayToDelete.append(\"*\")\n",
        "      totalNumberOfVar+=1  \n",
        "  print(arrayToDelete)\n",
        "  print(len(arrayToDelete) - totalNumberOfVar)\n",
        "val = 3\n",
        "nums = [3,2,2,3]\n",
        "removeVarInArray(nums,val)\n",
        "\n",
        "#2nd test\n",
        "\n",
        "val = 5\n",
        "nums = [30,25,23,5]\n",
        "removeVarInArray(nums,val)"
      ],
      "metadata": {
        "colab": {
          "base_uri": "https://localhost:8080/"
        },
        "id": "8pPueINLRkAL",
        "outputId": "e90a94a2-ae3c-4745-808e-5bed922f6bf9"
      },
      "execution_count": 5,
      "outputs": [
        {
          "output_type": "stream",
          "name": "stdout",
          "text": [
            "[2, 2, '*', '*']\n",
            "2\n",
            "[30, 25, 23, '*']\n",
            "3\n"
          ]
        }
      ]
    },
    {
      "cell_type": "markdown",
      "source": [
        "<aside>\n",
        "💡 **Q3.** Given a sorted array of distinct integers and a target value, return the index if the target is found. If not, return the index where it would be if it were inserted in order.\n",
        "\n",
        "You must write an algorithm with O(log n) runtime complexity.\n",
        "\n",
        "**Example 1:**\n",
        "Input: nums = [1,3,5,6], target = 5\n",
        "\n",
        "Output: 2\n",
        "\n",
        "</aside>"
      ],
      "metadata": {
        "id": "qPc9WBNFUQ5P"
      }
    },
    {
      "cell_type": "code",
      "source": [
        "def founfElement(arrayInWhichToSearch,target):\n",
        "  i= 0\n",
        "  j=len(arrayInWhichToSearch)\n",
        "  while(i<=j):\n",
        "    mid=(i+j)//2\n",
        "    if(arrayInWhichToSearch[mid] == target):\n",
        "      print(f\"Target Found At position {mid}\")\n",
        "      return\n",
        "    elif(arrayInWhichToSearch[mid] > target):\n",
        "      j=mid-1\n",
        "    else:\n",
        "      i=mid+1\n",
        "  if(len(arrayInWhichToSearch) % 2 == 0):\n",
        "\n",
        "    print(f\"Target Should be At position {i}\")\n",
        "  else:\n",
        "    print(f\"Target Should be At position {i-1}\")   \n",
        "target = 5\n",
        "nums = [1,3,5,6]\n",
        "founfElement(nums,target)   \n",
        "\n",
        "#2nd test\n",
        "\n",
        "target = 5\n",
        "nums = [1,3,6,60]\n",
        "founfElement(nums,target)"
      ],
      "metadata": {
        "colab": {
          "base_uri": "https://localhost:8080/"
        },
        "id": "NhJTOb3mTPI7",
        "outputId": "ab73d913-5647-4601-8e30-a9b52a680db9"
      },
      "execution_count": 9,
      "outputs": [
        {
          "output_type": "stream",
          "name": "stdout",
          "text": [
            "Target Found At position 2\n",
            "Target Should be At position 2\n"
          ]
        }
      ]
    },
    {
      "cell_type": "markdown",
      "source": [
        "<aside>\n",
        "💡 **Q4.** You are given a large integer represented as an integer array digits, where each digits[i] is the ith digit of the integer. The digits are ordered from most significant to least significant in left-to-right order. The large integer does not contain any leading 0's.\n",
        "\n",
        "Increment the large integer by one and return the resulting array of digits.\n",
        "\n",
        "**Example 1:**\n",
        "Input: digits = [1,2,3]\n",
        "Output: [1,2,4]\n",
        "\n",
        "**Explanation:** The array represents the integer 123.\n",
        "\n",
        "Incrementing by one gives 123 + 1 = 124.\n",
        "Thus, the result should be [1,2,4].\n",
        "\n",
        "</aside>"
      ],
      "metadata": {
        "id": "0EpLy1QkW1CN"
      }
    },
    {
      "cell_type": "code",
      "source": [
        "def incrementByOne(arrayToIncrement):\n",
        "  if(arrayToIncrement[-1]!=9):\n",
        "    arrayToIncrement[-1]=arrayToIncrement[-1]+1\n",
        "    print(arrayToIncrement)\n",
        "    return\n",
        "  else:\n",
        "    arrayToIncrement[-1]=0\n",
        "    for j in range(len(arrayToIncrement)-2,-1,-1):\n",
        "      print(\"hi\")\n",
        "      if(arrayToIncrement[j]==9):\n",
        "          arrayToIncrement[j]=0\n",
        "      else:\n",
        "           arrayToIncrement[j]=arrayToIncrement[j]+1\n",
        "           print(arrayToIncrement)\n",
        "           return\n",
        "  arrayToIncrement.insert(0,1)\n",
        "  print(arrayToIncrement)\n",
        "\n",
        "digits = [1,2,3]\n",
        "incrementByOne(digits)   \n",
        "\n",
        "digits = [9,9,9]\n",
        "incrementByOne(digits) "
      ],
      "metadata": {
        "colab": {
          "base_uri": "https://localhost:8080/"
        },
        "id": "s-IhAkqIWd5w",
        "outputId": "8763601d-07cd-4feb-dae6-56b55f0119ff"
      },
      "execution_count": 26,
      "outputs": [
        {
          "output_type": "stream",
          "name": "stdout",
          "text": [
            "[1, 2, 4]\n",
            "hi\n",
            "hi\n",
            "[1, 0, 0, 0]\n"
          ]
        }
      ]
    },
    {
      "cell_type": "markdown",
      "source": [
        "<aside>\n",
        "💡 **Q5.** You are given two integer arrays nums1 and nums2, sorted in non-decreasing order, and two integers m and n, representing the number of elements in nums1 and nums2 respectively.\n",
        "\n",
        "Merge nums1 and nums2 into a single array sorted in non-decreasing order.\n",
        "\n",
        "The final sorted array should not be returned by the function, but instead be stored inside the array nums1. To accommodate this, nums1 has a length of m + n, where the first m elements denote the elements that should be merged, and the last n elements are set to 0 and should be ignored. nums2 has a length of n.\n",
        "\n",
        "**Example 1:**\n",
        "Input: nums1 = [1,2,3,0,0,0], m = 3, nums2 = [2,5,6], n = 3\n",
        "Output: [1,2,2,3,5,6]\n",
        "\n",
        "**Explanation:** The arrays we are merging are [1,2,3] and [2,5,6].\n",
        "The result of the merge is [1,2,2,3,5,6] with the underlined elements coming from nums1.\n",
        "\n",
        "</aside>"
      ],
      "metadata": {
        "id": "jzXJYOaOW5g-"
      }
    },
    {
      "cell_type": "code",
      "source": [
        "def mergeSortedArrays(arr1,arr1Size,arr2,arr2Size):\n",
        "  i=arr1Size-1\n",
        "  j=arr2Size-1\n",
        "  k=arr1Size+arr2Size-1\n",
        "  while(k>=0):\n",
        "    if(i>=0 and j>=0):\n",
        "      if(arr2[j]>arr1[i]):\n",
        "        arr1[k]=arr2[j]\n",
        "        k-=1\n",
        "        j-=1\n",
        "      else:\n",
        "        arr1[k]=arr1[i]\n",
        "        k-=1\n",
        "        i-=1\n",
        "     \n",
        "    elif(j>=0):\n",
        "      arr1[k]=arr2[j]\n",
        "      k-=1\n",
        "      j-=1\n",
        "    else:\n",
        "      break  \n",
        "  print(arr1)    \n",
        "      \n",
        "nums2 = [2,5,6]\n",
        "nums1 = [1,2,3,0,0,0]\n",
        "mergeSortedArrays(nums1,3,nums2,3)\n",
        "\n",
        "\n",
        "\n",
        "nums2 = [20,50,60]\n",
        "nums1 = [1,22,33,40,0,0,0]\n",
        "mergeSortedArrays(nums1,4,nums2,3)\n",
        "    "
      ],
      "metadata": {
        "colab": {
          "base_uri": "https://localhost:8080/"
        },
        "id": "-uozMG9LW78p",
        "outputId": "0639695b-a953-40c3-97ec-55167aebde48"
      },
      "execution_count": 41,
      "outputs": [
        {
          "output_type": "stream",
          "name": "stdout",
          "text": [
            "[1, 2, 2, 3, 5, 6]\n",
            "[1, 20, 22, 33, 40, 50, 60]\n"
          ]
        }
      ]
    },
    {
      "cell_type": "markdown",
      "source": [
        "<aside>\n",
        "💡 **Q6.** Given an integer array nums, return true if any value appears at least twice in the array, and return false if every element is distinct.\n",
        "\n",
        "**Example 1:**\n",
        "Input: nums = [1,2,3,1]\n",
        "\n",
        "Output: true\n",
        "\n",
        "</aside>"
      ],
      "metadata": {
        "id": "1Schl2iCW8dO"
      }
    },
    {
      "cell_type": "code",
      "source": [
        "def checkDistinctArray(arrayTopCheck):\n",
        "  for i in range(len(arrayTopCheck)-1):\n",
        "    for j in range(i+1,len(arrayTopCheck),1):\n",
        "      if(arrayTopCheck[i]==arrayTopCheck[j]):\n",
        "        return True\n",
        "  return False\n",
        "\n",
        "\n",
        "nums = [1,2,3,1]\n",
        "checkDistinctArray(nums)\n",
        "\n"
      ],
      "metadata": {
        "colab": {
          "base_uri": "https://localhost:8080/"
        },
        "id": "pBwCt0XQW_EG",
        "outputId": "96cf61cb-933a-464c-89ac-b265e2d23afb"
      },
      "execution_count": 27,
      "outputs": [
        {
          "output_type": "execute_result",
          "data": {
            "text/plain": [
              "True"
            ]
          },
          "metadata": {},
          "execution_count": 27
        }
      ]
    },
    {
      "cell_type": "markdown",
      "source": [
        "<aside>\n",
        "💡 **Q7.** Given an integer array nums, move all 0's to the end of it while maintaining the relative order of the nonzero elements.\n",
        "\n",
        "Note that you must do this in-place without making a copy of the array.\n",
        "\n",
        "**Example 1:**\n",
        "Input: nums = [0,1,0,3,12]\n",
        "Output: [1,3,12,0,0]\n",
        "\n",
        "</aside>"
      ],
      "metadata": {
        "id": "Th5UJCfZXAmG"
      }
    },
    {
      "cell_type": "code",
      "source": [
        "def moveZeros(arrayToMove):\n",
        "  for i in range(len(arrayToMove)):\n",
        "    if(arrayToMove[i]==0):\n",
        "      for j in range(i,len(arrayToMove)-1,1):\n",
        "        arrayToMove[j]=arrayToMove[j+1]\n",
        "      arrayToMove[j+1]=0\n",
        "  print(arrayToMove)\n",
        "\n",
        "\n",
        "nums = [0,1,0,3,12] \n",
        "moveZeros(nums) \n",
        "\n",
        "\n",
        "nums = [0,1,0,0,0] \n",
        "moveZeros(nums)"
      ],
      "metadata": {
        "colab": {
          "base_uri": "https://localhost:8080/"
        },
        "id": "SvUverLtXBA-",
        "outputId": "350dd1c8-fc28-44ca-d998-2e188683f1b6"
      },
      "execution_count": 33,
      "outputs": [
        {
          "output_type": "stream",
          "name": "stdout",
          "text": [
            "[1, 3, 12, 0, 0]\n",
            "[1, 0, 0, 0, 0]\n"
          ]
        }
      ]
    },
    {
      "cell_type": "markdown",
      "source": [
        "<aside>\n",
        "💡 **Q8.** You have a set of integers s, which originally contains all the numbers from 1 to n. Unfortunately, due to some error, one of the numbers in s got duplicated to another number in the set, which results in repetition of one number and loss of another number.\n",
        "\n",
        "You are given an integer array nums representing the data status of this set after the error.\n",
        "\n",
        "Find the number that occurs twice and the number that is missing and return them in the form of an array.\n",
        "\n",
        "**Example 1:**\n",
        "Input: nums = [1,2,2,4]\n",
        "Output: [2,3]\n",
        "\n",
        "</aside>"
      ],
      "metadata": {
        "id": "Q9T8VvjkXCsN"
      }
    },
    {
      "cell_type": "code",
      "source": [
        "def checkMissingElementArray(arrayTopCheck):\n",
        "  for i in range(len(arrayTopCheck)-1):\n",
        "    for j in range(i+1,len(arrayTopCheck),1):\n",
        "      if(arrayTopCheck[i]==arrayTopCheck[j]):\n",
        "        return [arrayTopCheck[i],arrayTopCheck[i]+1]\n",
        "        \n",
        "nums = [1,2,2,4]\n",
        "checkMissingElementArray(nums)\n",
        "\n",
        "nums = [12,12,14,15]\n",
        "checkMissingElementArray(nums)"
      ],
      "metadata": {
        "colab": {
          "base_uri": "https://localhost:8080/"
        },
        "id": "eycNsoQ8XDSH",
        "outputId": "80cce592-7652-423c-8d8c-f47a4bc9fdfc"
      },
      "execution_count": 37,
      "outputs": [
        {
          "output_type": "execute_result",
          "data": {
            "text/plain": [
              "[12, 13]"
            ]
          },
          "metadata": {},
          "execution_count": 37
        }
      ]
    },
    {
      "cell_type": "code",
      "source": [],
      "metadata": {
        "id": "pP5TRpY-fmrJ"
      },
      "execution_count": null,
      "outputs": []
    }
  ]
}