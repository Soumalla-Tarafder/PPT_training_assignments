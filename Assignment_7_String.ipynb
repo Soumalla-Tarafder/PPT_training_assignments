{
  "nbformat": 4,
  "nbformat_minor": 0,
  "metadata": {
    "colab": {
      "provenance": [],
      "gpuType": "T4",
      "authorship_tag": "ABX9TyNLUdq4pUF6Qb/aVMop5bv3",
      "include_colab_link": true
    },
    "kernelspec": {
      "name": "python3",
      "display_name": "Python 3"
    },
    "language_info": {
      "name": "python"
    },
    "gpuClass": "standard"
  },
  "cells": [
    {
      "cell_type": "markdown",
      "metadata": {
        "id": "view-in-github",
        "colab_type": "text"
      },
      "source": [
        "<a href=\"https://colab.research.google.com/github/Soumalla-Tarafder/PPT_training_assignments/blob/main/Assignment_7_String.ipynb\" target=\"_parent\"><img src=\"https://colab.research.google.com/assets/colab-badge.svg\" alt=\"Open In Colab\"/></a>"
      ]
    },
    {
      "cell_type": "markdown",
      "source": [
        "<aside>\n",
        "💡 **Question 1**\n",
        "\n",
        "Given two strings s and t, *determine if they are isomorphic*.\n",
        "\n",
        "Two strings s and t are isomorphic if the characters in s can be replaced to get t.\n",
        "\n",
        "All occurrences of a character must be replaced with another character while preserving the order of characters. No two characters may map to the same character, but a character may map to itself.\n",
        "\n",
        "**Example 1:**\n",
        "\n",
        "**Input:** s = \"egg\", t = \"add\"\n",
        "\n",
        "**Output:** true\n",
        "\n",
        "</aside>"
      ],
      "metadata": {
        "id": "_dcMSMo_P6WE"
      }
    },
    {
      "cell_type": "code",
      "source": [],
      "metadata": {
        "id": "XlW2SgG0b4rw"
      },
      "execution_count": null,
      "outputs": []
    },
    {
      "cell_type": "markdown",
      "source": [
        "<aside>\n",
        "💡 **Question 2**\n",
        "\n",
        "Given a string num which represents an integer, return true *if* num *is a **strobogrammatic number***.\n",
        "\n",
        "A **strobogrammatic number** is a number that looks the same when rotated 180 degrees (looked at upside down).\n",
        "\n",
        "**Example 1:**\n",
        "\n",
        "**Input:** num = \"69\"\n",
        "\n",
        "**Output:**\n",
        "\n",
        "true\n",
        "\n",
        "</aside>"
      ],
      "metadata": {
        "id": "b1Sn2vHfb5qm"
      }
    },
    {
      "cell_type": "code",
      "source": [
        "def isStrobogrammatic(num):\n",
        "      \n",
        "      maps = {(\"0\", \"0\"), (\"1\", \"1\"), (\"6\", \"9\"), (\"8\", \"8\"), (\"9\", \"6\")}\n",
        "      i,j = 0, len(num) - 1\n",
        "      while i <= j:\n",
        "          if (num[i], num[j]) not in maps:\n",
        "              return False\n",
        "          i += 1\n",
        "          j -= 1\n",
        "      return True\n",
        "isStrobogrammatic(\"69\")    "
      ],
      "metadata": {
        "colab": {
          "base_uri": "https://localhost:8080/"
        },
        "id": "5crDqcOpb64-",
        "outputId": "9bbafc99-84bf-44f5-b575-c05e12e5f5a7"
      },
      "execution_count": null,
      "outputs": [
        {
          "output_type": "execute_result",
          "data": {
            "text/plain": [
              "True"
            ]
          },
          "metadata": {},
          "execution_count": 26
        }
      ]
    },
    {
      "cell_type": "markdown",
      "source": [
        "<aside>\n",
        "💡 **Question 3**\n",
        "\n",
        "Given two non-negative integers, num1 and num2 represented as string, return *the sum of* num1 *and* num2 *as a string*.\n",
        "\n",
        "You must solve the problem without using any built-in library for handling large integers (such as BigInteger). You must also not convert the inputs to integers directly.\n",
        "\n",
        "**Example 1:**\n",
        "\n",
        "**Input:** num1 = \"11\", num2 = \"123\"\n",
        "\n",
        "**Output:**\n",
        "\n",
        "\"134\"\n",
        "\n",
        "</aside>"
      ],
      "metadata": {
        "id": "c9VksC6eb7Ue"
      }
    },
    {
      "cell_type": "code",
      "source": [],
      "metadata": {
        "id": "htfNO0Cjb8cP"
      },
      "execution_count": null,
      "outputs": []
    },
    {
      "cell_type": "markdown",
      "source": [
        "<aside>\n",
        "💡 **Question 4**\n",
        "\n",
        "Given a string s, reverse the order of characters in each word within a sentence while still preserving whitespace and initial word order.\n",
        "\n",
        "**Example 1:**\n",
        "\n",
        "**Input:** s = \"Let's take LeetCode contest\"\n",
        "\n",
        "**Output:** \"s'teL ekat edoCteeL tsetnoc\"\n",
        "\n",
        "</aside>"
      ],
      "metadata": {
        "id": "FqcK4G_Vb80V"
      }
    },
    {
      "cell_type": "code",
      "source": [
        "def reverseString(word):\n",
        "  s=word.split(sep=\" \")\n",
        "  \n",
        "  result=[]\n",
        "  for i in s:\n",
        "    result.append(i[::-1])\n",
        "    result.append(\" \")\n",
        "  return \"\".join(result) \n",
        "\n",
        "s = \"Let's take LeetCode contest\"\n",
        "reverseString(s)"
      ],
      "metadata": {
        "colab": {
          "base_uri": "https://localhost:8080/",
          "height": 38
        },
        "id": "2LKnSbFVb933",
        "outputId": "5a01629d-cc34-4ad7-c80f-50a8345a8857"
      },
      "execution_count": null,
      "outputs": [
        {
          "output_type": "execute_result",
          "data": {
            "text/plain": [
              "\"s'teL ekat edoCteeL tsetnoc \""
            ],
            "application/vnd.google.colaboratory.intrinsic+json": {
              "type": "string"
            }
          },
          "metadata": {},
          "execution_count": 52
        }
      ]
    },
    {
      "cell_type": "code",
      "source": [
        "s=\"abc\"\n",
        "s[::-1]"
      ],
      "metadata": {
        "colab": {
          "base_uri": "https://localhost:8080/",
          "height": 38
        },
        "id": "wrQFMGRfxbyk",
        "outputId": "ed4c180c-df0e-41a6-e0e9-b1dc3c06f866"
      },
      "execution_count": null,
      "outputs": [
        {
          "output_type": "execute_result",
          "data": {
            "text/plain": [
              "'cba'"
            ],
            "application/vnd.google.colaboratory.intrinsic+json": {
              "type": "string"
            }
          },
          "metadata": {},
          "execution_count": 44
        }
      ]
    },
    {
      "cell_type": "markdown",
      "source": [
        "<aside>\n",
        "💡 **Question 5**\n",
        "\n",
        "Given a string s and an integer k, reverse the first k characters for every 2k characters counting from the start of the string.\n",
        "\n",
        "If there are fewer than k characters left, reverse all of them. If there are less than 2k but greater than or equal to k characters, then reverse the first k characters and leave the other as original.\n",
        "\n",
        "**Example 1:**\n",
        "\n",
        "**Input:** s = \"abcdefg\", k = 2\n",
        "\n",
        "**Output:**\n",
        "\n",
        "\"bacdfeg\"\n",
        "\n",
        "</aside>"
      ],
      "metadata": {
        "id": "FunDGmVIb-de"
      }
    },
    {
      "cell_type": "code",
      "source": [],
      "metadata": {
        "id": "3HHO6CSHcFse"
      },
      "execution_count": null,
      "outputs": []
    },
    {
      "cell_type": "markdown",
      "source": [
        "<aside>\n",
        "💡 **Question 6**\n",
        "\n",
        "Given two strings s and goal, return true *if and only if* s *can become* goal *after some number of **shifts** on* s.\n",
        "\n",
        "A **shift** on s consists of moving the leftmost character of s to the rightmost position.\n",
        "\n",
        "- For example, if s = \"abcde\", then it will be \"bcdea\" after one shift.\n",
        "\n",
        "**Example 1:**\n",
        "\n",
        "**Input:** s = \"abcde\", goal = \"cdeab\"\n",
        "\n",
        "**Output:**\n",
        "\n",
        "true\n",
        "\n",
        "</aside>"
      ],
      "metadata": {
        "id": "iHZJYNhZcGDu"
      }
    },
    {
      "cell_type": "code",
      "source": [
        "def isshiftSatisfied(s,goal):\n",
        "  for i in range(len(s)):\n",
        "    if(s==goal):\n",
        "      return True\n",
        "    else:\n",
        "      li=list(s)\n",
        "      first=li[0]\n",
        "      li.pop(0)\n",
        "      li.append(first)\n",
        "      s=\"\".join(li)\n",
        "  return False    \n",
        "s = \"abcde\"\n",
        "goal = \"cdeab\"\n",
        "isshiftSatisfied(s,goal)"
      ],
      "metadata": {
        "colab": {
          "base_uri": "https://localhost:8080/"
        },
        "id": "C0ErO-dgcHCR",
        "outputId": "4c85a2b3-6517-4028-b757-fbf8e54a233b"
      },
      "execution_count": null,
      "outputs": [
        {
          "output_type": "execute_result",
          "data": {
            "text/plain": [
              "True"
            ]
          },
          "metadata": {},
          "execution_count": 18
        }
      ]
    },
    {
      "cell_type": "markdown",
      "source": [
        "<aside>\n",
        "💡 **Question 7**\n",
        "\n",
        "Given two strings s and t, return true *if they are equal when both are typed into empty text editors*. '#' means a backspace character.\n",
        "\n",
        "Note that after backspacing an empty text, the text will continue empty.\n",
        "\n",
        "**Example 1:**\n",
        "\n",
        "**Input:** s = \"ab#c\", t = \"ad#c\"\n",
        "\n",
        "**Output:** true\n",
        "\n",
        "**Explanation:**\n",
        "\n",
        "Both s and t become \"ac\".\n",
        "\n",
        "</aside>"
      ],
      "metadata": {
        "id": "rKcjdK5KcHX-"
      }
    },
    {
      "cell_type": "code",
      "source": [
        "def similarstring(s,t):\n",
        "  slist=[]\n",
        "  tlist=[]\n",
        "  for i in s:\n",
        "    if(i!=\"#\"):\n",
        "      slist.append(i)\n",
        "    else:\n",
        "      slist.pop()  \n",
        "  for i in t:\n",
        "    if(i!=\"#\"):\n",
        "      tlist.append(i)\n",
        "    else:\n",
        "      tlist.pop()  \n",
        "  return slist==tlist    \n",
        "\n",
        "s = \"ab#c\" \n",
        "t = \"ad#c\"  \n",
        "similarstring(s,t)"
      ],
      "metadata": {
        "colab": {
          "base_uri": "https://localhost:8080/"
        },
        "id": "z_3awqL9cIc4",
        "outputId": "d8b98121-5883-4d1f-c031-57d5856b844f"
      },
      "execution_count": null,
      "outputs": [
        {
          "output_type": "execute_result",
          "data": {
            "text/plain": [
              "True"
            ]
          },
          "metadata": {},
          "execution_count": 10
        }
      ]
    },
    {
      "cell_type": "markdown",
      "source": [
        "<aside>\n",
        "💡 **Question 8**\n",
        "\n",
        "You are given an array coordinates, coordinates[i] = [x, y], where [x, y] represents the coordinate of a point. Check if these points make a straight line in the XY plane.\n",
        "\n",
        "**Example 1:**\n",
        "\n",
        "</aside>**Input:** coordinates = [[1,2],[2,3],[3,4],[4,5],[5,6],[6,7]]\n",
        "\n",
        "**Output:** true"
      ],
      "metadata": {
        "id": "HijCt_VfcNp3"
      }
    },
    {
      "cell_type": "code",
      "source": [
        "def isstraightline(arr,n):\n",
        "  x0=arr[0][0]\n",
        "  y0=arr[0][1]\n",
        "\n",
        "  x1=arr[1][0]\n",
        "  y1=arr[1][0]\n",
        "\n",
        "  dx=x1-x0\n",
        "  dy=y1-y0\n",
        "\n",
        "  for i in range(n):\n",
        "    if(dx * (arr[i][1]-y1)  != dy * (arr[i][0]-x1)):\n",
        "      return False\n",
        "\n",
        "  return True\n",
        "coordinates = [[1,2],[2,3],[3,4],[4,5],[5,6],[6,7]]\n",
        "isstraightline(coordinates,6)  "
      ],
      "metadata": {
        "colab": {
          "base_uri": "https://localhost:8080/"
        },
        "id": "JKzwQ6IhcVPH",
        "outputId": "5d42199d-72b7-47c4-cf77-7ac58ca8bd7a"
      },
      "execution_count": null,
      "outputs": [
        {
          "output_type": "execute_result",
          "data": {
            "text/plain": [
              "False"
            ]
          },
          "metadata": {},
          "execution_count": 4
        }
      ]
    },
    {
      "cell_type": "code",
      "source": [],
      "metadata": {
        "id": "AOhd0dKLfKyQ"
      },
      "execution_count": null,
      "outputs": []
    }
  ]
}